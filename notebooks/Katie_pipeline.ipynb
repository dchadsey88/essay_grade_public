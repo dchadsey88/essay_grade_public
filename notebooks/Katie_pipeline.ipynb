{
 "cells": [
  {
   "cell_type": "code",
   "execution_count": 79,
   "metadata": {},
   "outputs": [],
   "source": [
    "import pandas as pd\n",
    "import numpy as np"
   ]
  },
  {
   "cell_type": "code",
   "execution_count": 80,
   "metadata": {},
   "outputs": [
    {
     "name": "stdout",
     "output_type": "stream",
     "text": [
      "The autoreload extension is already loaded. To reload it, use:\n",
      "  %reload_ext autoreload\n"
     ]
    }
   ],
   "source": [
    "%load_ext autoreload\n",
    "\n",
    "%autoreload 2"
   ]
  },
  {
   "cell_type": "code",
   "execution_count": 81,
   "metadata": {},
   "outputs": [],
   "source": [
    "import warnings\n",
    "warnings.filterwarnings('ignore')"
   ]
  },
  {
   "cell_type": "code",
   "execution_count": 305,
   "metadata": {},
   "outputs": [],
   "source": [
    "import os\n",
    "import sys\n",
    "path = os.path.abspath('..')\n",
    "sys.path.append(path)\n",
    "\n",
    "from essay_grader.text_feature import gen_text_feature\n",
    "from essay_grader.title_text_similarity import gen_title_text_similarity_features"
   ]
  },
  {
   "cell_type": "code",
   "execution_count": 88,
   "metadata": {},
   "outputs": [],
   "source": [
    "# # save the file to pickle file\n",
    "#1\n",
    "# filename = '../essay_grader/pickle_data/rf_model.pkl'\n",
    "# pickle.dump(clf, open(filename, 'wb'))\n",
    "#2\n",
    "# import pickle\n",
    "# df.to_pickle('../essay_grader/pickle_data/text_feature_df2.pkl')\n",
    "\n",
    "\n",
    "# # load the model from disk\n",
    "#1\n",
    "# rf_model = pickle.load(open(filename, 'rb'))\n",
    "\n",
    "#2\n",
    "# import pickle\n",
    "# with open('../essay_grader/pickle_data/text_feature_df.pkl', \"rb\") as file:\n",
    "#     text_feature_df = pickle.load(file)"
   ]
  },
  {
   "cell_type": "markdown",
   "metadata": {},
   "source": [
    "## load or save pickle data"
   ]
  },
  {
   "cell_type": "code",
   "execution_count": 306,
   "metadata": {},
   "outputs": [],
   "source": [
    "data = pd.read_csv(\"../essay_grader/data/essay_data.csv\")"
   ]
  },
  {
   "cell_type": "code",
   "execution_count": 307,
   "metadata": {},
   "outputs": [
    {
     "name": "stdout",
     "output_type": "stream",
     "text": [
      "CPU times: user 32.5 s, sys: 121 ms, total: 32.7 s\n",
      "Wall time: 32.9 s\n"
     ]
    }
   ],
   "source": [
    "%%time\n",
    "all_feature_df = gen_text_feature(data)"
   ]
  },
  {
   "cell_type": "code",
   "execution_count": 308,
   "metadata": {},
   "outputs": [
    {
     "name": "stderr",
     "output_type": "stream",
     "text": [
      "2020-08-26 16:33:12 WARNING: Can not find mwt: default from official model list. Ignoring it.\n",
      "2020-08-26 16:33:12 INFO: Loading these models for language: en (English):\n",
      "=======================\n",
      "| Processor | Package |\n",
      "-----------------------\n",
      "| tokenize  | ewt     |\n",
      "| pos       | ewt     |\n",
      "| lemma     | ewt     |\n",
      "=======================\n",
      "\n",
      "2020-08-26 16:33:12 INFO: Use device: cpu\n",
      "2020-08-26 16:33:12 INFO: Loading: tokenize\n",
      "2020-08-26 16:33:12 INFO: Loading: pos\n",
      "2020-08-26 16:33:13 INFO: Loading: lemma\n",
      "2020-08-26 16:33:13 INFO: Done loading processors!\n"
     ]
    },
    {
     "name": "stdout",
     "output_type": "stream",
     "text": [
      "CPU times: user 7.57 s, sys: 511 ms, total: 8.08 s\n",
      "Wall time: 7 s\n"
     ]
    }
   ],
   "source": [
    "%%time\n",
    "all_feature_df = gen_title_text_similarity_features(all_feature_df)"
   ]
  },
  {
   "cell_type": "code",
   "execution_count": 310,
   "metadata": {},
   "outputs": [
    {
     "data": {
      "text/html": [
       "<div>\n",
       "<style scoped>\n",
       "    .dataframe tbody tr th:only-of-type {\n",
       "        vertical-align: middle;\n",
       "    }\n",
       "\n",
       "    .dataframe tbody tr th {\n",
       "        vertical-align: top;\n",
       "    }\n",
       "\n",
       "    .dataframe thead th {\n",
       "        text-align: right;\n",
       "    }\n",
       "</style>\n",
       "<table border=\"1\" class=\"dataframe\">\n",
       "  <thead>\n",
       "    <tr style=\"text-align: right;\">\n",
       "      <th></th>\n",
       "      <th>text</th>\n",
       "      <th>year</th>\n",
       "      <th>name</th>\n",
       "      <th>title</th>\n",
       "      <th>score</th>\n",
       "      <th>level</th>\n",
       "      <th>title_name</th>\n",
       "      <th>vocab_richness</th>\n",
       "      <th>mean_word_syllable</th>\n",
       "      <th>word_count</th>\n",
       "      <th>...</th>\n",
       "      <th>avg_sentence_length</th>\n",
       "      <th>count_stopwords</th>\n",
       "      <th>flesch_reading_ease</th>\n",
       "      <th>freq_wok_words</th>\n",
       "      <th>freq_aok_words</th>\n",
       "      <th>freq_cliche_words</th>\n",
       "      <th>freq_argument_words</th>\n",
       "      <th>freq_absolute_words</th>\n",
       "      <th>title_key_word</th>\n",
       "      <th>frequency_title_words</th>\n",
       "    </tr>\n",
       "  </thead>\n",
       "  <tbody>\n",
       "    <tr>\n",
       "      <th>0</th>\n",
       "      <td>the question is asking that in the same discip...</td>\n",
       "      <td>2017</td>\n",
       "      <td>4, 5 - Est_Chen-fzn235-TOK_essay.docx</td>\n",
       "      <td>5</td>\n",
       "      <td>4</td>\n",
       "      <td>2</td>\n",
       "      <td>given access to the same facts  how is it poss...</td>\n",
       "      <td>0.20936</td>\n",
       "      <td>1.540025</td>\n",
       "      <td>1525</td>\n",
       "      <td>...</td>\n",
       "      <td>16.223404</td>\n",
       "      <td>788</td>\n",
       "      <td>60.08</td>\n",
       "      <td>25</td>\n",
       "      <td>52</td>\n",
       "      <td>0</td>\n",
       "      <td>4</td>\n",
       "      <td>3</td>\n",
       "      <td>[(give, v), (access, n), (fact, n), (disagreem...</td>\n",
       "      <td>89</td>\n",
       "    </tr>\n",
       "  </tbody>\n",
       "</table>\n",
       "<p>1 rows × 21 columns</p>\n",
       "</div>"
      ],
      "text/plain": [
       "                                                text  year  \\\n",
       "0  the question is asking that in the same discip...  2017   \n",
       "\n",
       "                                    name  title  score  level  \\\n",
       "0  4, 5 - Est_Chen-fzn235-TOK_essay.docx      5      4      2   \n",
       "\n",
       "                                          title_name  vocab_richness  \\\n",
       "0  given access to the same facts  how is it poss...         0.20936   \n",
       "\n",
       "   mean_word_syllable  word_count  ...  avg_sentence_length  count_stopwords  \\\n",
       "0            1.540025        1525  ...            16.223404              788   \n",
       "\n",
       "   flesch_reading_ease  freq_wok_words  freq_aok_words  freq_cliche_words  \\\n",
       "0                60.08              25              52                  0   \n",
       "\n",
       "   freq_argument_words  freq_absolute_words  \\\n",
       "0                    4                    3   \n",
       "\n",
       "                                      title_key_word frequency_title_words  \n",
       "0  [(give, v), (access, n), (fact, n), (disagreem...                    89  \n",
       "\n",
       "[1 rows x 21 columns]"
      ]
     },
     "execution_count": 310,
     "metadata": {},
     "output_type": "execute_result"
    }
   ],
   "source": [
    "all_feature_df.head(1)"
   ]
  },
  {
   "cell_type": "code",
   "execution_count": 312,
   "metadata": {},
   "outputs": [],
   "source": [
    "all_feature_df.drop(columns=[\"name\",\"title_key_word\"],inplace=True)"
   ]
  },
  {
   "cell_type": "code",
   "execution_count": 313,
   "metadata": {},
   "outputs": [
    {
     "data": {
      "text/html": [
       "<div>\n",
       "<style scoped>\n",
       "    .dataframe tbody tr th:only-of-type {\n",
       "        vertical-align: middle;\n",
       "    }\n",
       "\n",
       "    .dataframe tbody tr th {\n",
       "        vertical-align: top;\n",
       "    }\n",
       "\n",
       "    .dataframe thead th {\n",
       "        text-align: right;\n",
       "    }\n",
       "</style>\n",
       "<table border=\"1\" class=\"dataframe\">\n",
       "  <thead>\n",
       "    <tr style=\"text-align: right;\">\n",
       "      <th></th>\n",
       "      <th>text</th>\n",
       "      <th>year</th>\n",
       "      <th>title</th>\n",
       "      <th>score</th>\n",
       "      <th>level</th>\n",
       "      <th>title_name</th>\n",
       "      <th>vocab_richness</th>\n",
       "      <th>mean_word_syllable</th>\n",
       "      <th>word_count</th>\n",
       "      <th>sentence_count</th>\n",
       "      <th>avg_sentence_length</th>\n",
       "      <th>count_stopwords</th>\n",
       "      <th>flesch_reading_ease</th>\n",
       "      <th>freq_wok_words</th>\n",
       "      <th>freq_aok_words</th>\n",
       "      <th>freq_cliche_words</th>\n",
       "      <th>freq_argument_words</th>\n",
       "      <th>freq_absolute_words</th>\n",
       "      <th>frequency_title_words</th>\n",
       "    </tr>\n",
       "  </thead>\n",
       "  <tbody>\n",
       "    <tr>\n",
       "      <th>0</th>\n",
       "      <td>the question is asking that in the same discip...</td>\n",
       "      <td>2017</td>\n",
       "      <td>5</td>\n",
       "      <td>4</td>\n",
       "      <td>2</td>\n",
       "      <td>given access to the same facts  how is it poss...</td>\n",
       "      <td>0.20936</td>\n",
       "      <td>1.540025</td>\n",
       "      <td>1525</td>\n",
       "      <td>94</td>\n",
       "      <td>16.223404</td>\n",
       "      <td>788</td>\n",
       "      <td>60.08</td>\n",
       "      <td>25</td>\n",
       "      <td>52</td>\n",
       "      <td>0</td>\n",
       "      <td>4</td>\n",
       "      <td>3</td>\n",
       "      <td>89</td>\n",
       "    </tr>\n",
       "  </tbody>\n",
       "</table>\n",
       "</div>"
      ],
      "text/plain": [
       "                                                text  year  title  score  \\\n",
       "0  the question is asking that in the same discip...  2017      5      4   \n",
       "\n",
       "   level                                         title_name  vocab_richness  \\\n",
       "0      2  given access to the same facts  how is it poss...         0.20936   \n",
       "\n",
       "   mean_word_syllable  word_count  sentence_count  avg_sentence_length  \\\n",
       "0            1.540025        1525              94            16.223404   \n",
       "\n",
       "   count_stopwords  flesch_reading_ease  freq_wok_words  freq_aok_words  \\\n",
       "0              788                60.08              25              52   \n",
       "\n",
       "   freq_cliche_words  freq_argument_words  freq_absolute_words  \\\n",
       "0                  0                    4                    3   \n",
       "\n",
       "   frequency_title_words  \n",
       "0                     89  "
      ]
     },
     "execution_count": 313,
     "metadata": {},
     "output_type": "execute_result"
    }
   ],
   "source": [
    "all_feature_df.head(1)"
   ]
  },
  {
   "cell_type": "code",
   "execution_count": 314,
   "metadata": {},
   "outputs": [],
   "source": [
    "df =all_feature_df.copy()"
   ]
  },
  {
   "cell_type": "code",
   "execution_count": 37,
   "metadata": {},
   "outputs": [],
   "source": [
    "# df[\"level\"]= df[\"level\"].map({1:1,2:2,3:3,4:4,5:4})"
   ]
  },
  {
   "cell_type": "code",
   "execution_count": null,
   "metadata": {},
   "outputs": [],
   "source": []
  },
  {
   "cell_type": "code",
   "execution_count": 315,
   "metadata": {},
   "outputs": [
    {
     "data": {
      "text/plain": [
       "Index(['text', 'year', 'title', 'score', 'level', 'title_name',\n",
       "       'vocab_richness', 'mean_word_syllable', 'word_count', 'sentence_count',\n",
       "       'avg_sentence_length', 'count_stopwords', 'flesch_reading_ease',\n",
       "       'freq_wok_words', 'freq_aok_words', 'freq_cliche_words',\n",
       "       'freq_argument_words', 'freq_absolute_words', 'frequency_title_words'],\n",
       "      dtype='object')"
      ]
     },
     "execution_count": 315,
     "metadata": {},
     "output_type": "execute_result"
    }
   ],
   "source": [
    "df.columns"
   ]
  },
  {
   "cell_type": "code",
   "execution_count": 316,
   "metadata": {},
   "outputs": [],
   "source": [
    "numeric_features = ['vocab_richness', 'mean_word_syllable', 'word_count', 'sentence_count',\n",
    "       'avg_sentence_length', 'count_stopwords', 'flesch_reading_ease',\n",
    "       'freq_wok_words', 'freq_aok_words', 'freq_cliche_words',\n",
    "       'freq_argument_words', 'freq_absolute_words', 'frequency_title_words']"
   ]
  },
  {
   "cell_type": "code",
   "execution_count": 317,
   "metadata": {},
   "outputs": [],
   "source": [
    "text_features =[\"text\", \n",
    "                \"title_name\",\n",
    "               ]"
   ]
  },
  {
   "cell_type": "code",
   "execution_count": 318,
   "metadata": {},
   "outputs": [],
   "source": [
    "X = df[text_features+\n",
    "    numeric_features\n",
    "]\n",
    "\n",
    "Y = df['score']\n",
    "\n",
    "from sklearn.model_selection import train_test_split\n",
    "X_train, X_test, y_train, y_test = train_test_split(X, Y, test_size=0.25, random_state=42)"
   ]
  },
  {
   "cell_type": "markdown",
   "metadata": {},
   "source": [
    "## PCA"
   ]
  },
  {
   "cell_type": "code",
   "execution_count": 328,
   "metadata": {},
   "outputs": [],
   "source": [
    "scaler =MinMaxScaler()\n",
    "text_df.iloc[:,6:] = scaler.fit_transform(text_df.iloc[:,6:])"
   ]
  },
  {
   "cell_type": "code",
   "execution_count": 329,
   "metadata": {},
   "outputs": [],
   "source": [
    "from sklearn.decomposition import PCA\n",
    "# df must be normalized first\n",
    "def pca_features(df):\n",
    "    pca = PCA(random_state=42)\n",
    "    pca.fit(df.iloc[:,6:])\n",
    "    Wt = pd.DataFrame(pca.components_)\n",
    "    \n",
    "    pca_result = pd.concat([pd.Series(df.iloc[:,6:].columns),abs(Wt[0])],axis=1)\n",
    "    pca_result.columns = ['features','vector']\n",
    "    pca_result_sorted = pca_result.sort_values(by='vector', ascending=False)\n",
    "    feature_list = []\n",
    "    for feature in pca_result_sorted[pca_result_sorted['vector']>0]['features']:\n",
    "        feature_list.append(feature)\n",
    "    return df[feature_list]"
   ]
  },
  {
   "cell_type": "code",
   "execution_count": 330,
   "metadata": {},
   "outputs": [],
   "source": [
    "df= pca_features(text_df)"
   ]
  },
  {
   "cell_type": "code",
   "execution_count": 331,
   "metadata": {},
   "outputs": [
    {
     "data": {
      "text/plain": [
       "13"
      ]
     },
     "execution_count": 331,
     "metadata": {},
     "output_type": "execute_result"
    }
   ],
   "source": [
    "len(all_feature_df.iloc[:,6:].columns)"
   ]
  },
  {
   "cell_type": "code",
   "execution_count": 332,
   "metadata": {},
   "outputs": [
    {
     "data": {
      "text/plain": [
       "Index(['freq_wok_words', 'flesch_reading_ease', 'vocab_richness',\n",
       "       'mean_word_syllable', 'word_count', 'avg_sentence_length',\n",
       "       'count_stopwords', 'sentence_count', 'freq_cliche_words',\n",
       "       'freq_aok_words', 'freq_argument_words', 'freq_absolute_words'],\n",
       "      dtype='object')"
      ]
     },
     "execution_count": 332,
     "metadata": {},
     "output_type": "execute_result"
    }
   ],
   "source": [
    "df.columns"
   ]
  },
  {
   "cell_type": "code",
   "execution_count": 275,
   "metadata": {},
   "outputs": [
    {
     "data": {
      "text/html": [
       "<div>\n",
       "<style scoped>\n",
       "    .dataframe tbody tr th:only-of-type {\n",
       "        vertical-align: middle;\n",
       "    }\n",
       "\n",
       "    .dataframe tbody tr th {\n",
       "        vertical-align: top;\n",
       "    }\n",
       "\n",
       "    .dataframe thead th {\n",
       "        text-align: right;\n",
       "    }\n",
       "</style>\n",
       "<table border=\"1\" class=\"dataframe\">\n",
       "  <thead>\n",
       "    <tr style=\"text-align: right;\">\n",
       "      <th></th>\n",
       "      <th>freq_wok_words</th>\n",
       "      <th>flesch_reading_ease</th>\n",
       "      <th>vocab_richness</th>\n",
       "      <th>mean_word_syllable</th>\n",
       "      <th>word_count</th>\n",
       "      <th>avg_sentence_length</th>\n",
       "      <th>count_stopwords</th>\n",
       "      <th>sentence_count</th>\n",
       "      <th>freq_cliche_words</th>\n",
       "      <th>freq_aok_words</th>\n",
       "      <th>freq_argument_words</th>\n",
       "      <th>freq_absolute_words</th>\n",
       "    </tr>\n",
       "  </thead>\n",
       "  <tbody>\n",
       "    <tr>\n",
       "      <th>0</th>\n",
       "      <td>0.403226</td>\n",
       "      <td>0.82636</td>\n",
       "      <td>0.0</td>\n",
       "      <td>0.221303</td>\n",
       "      <td>0.698113</td>\n",
       "      <td>0.095829</td>\n",
       "      <td>0.792035</td>\n",
       "      <td>0.816901</td>\n",
       "      <td>0.0</td>\n",
       "      <td>0.632911</td>\n",
       "      <td>0.210526</td>\n",
       "      <td>0.230769</td>\n",
       "    </tr>\n",
       "  </tbody>\n",
       "</table>\n",
       "</div>"
      ],
      "text/plain": [
       "   freq_wok_words  flesch_reading_ease  vocab_richness  mean_word_syllable  \\\n",
       "0        0.403226              0.82636             0.0            0.221303   \n",
       "\n",
       "   word_count  avg_sentence_length  count_stopwords  sentence_count  \\\n",
       "0    0.698113             0.095829         0.792035        0.816901   \n",
       "\n",
       "   freq_cliche_words  freq_aok_words  freq_argument_words  freq_absolute_words  \n",
       "0                0.0        0.632911             0.210526             0.230769  "
      ]
     },
     "execution_count": 275,
     "metadata": {},
     "output_type": "execute_result"
    }
   ],
   "source": [
    "df.head(1)"
   ]
  },
  {
   "cell_type": "code",
   "execution_count": 277,
   "metadata": {},
   "outputs": [],
   "source": [
    "Y = text_df['score']\n",
    "\n",
    "from sklearn.model_selection import train_test_split\n",
    "X_train, X_test, y_train, y_test = train_test_split(df, Y, test_size=0.25, random_state=42)"
   ]
  },
  {
   "cell_type": "markdown",
   "metadata": {},
   "source": [
    "## Random Forest Model"
   ]
  },
  {
   "cell_type": "code",
   "execution_count": 323,
   "metadata": {},
   "outputs": [],
   "source": [
    "from sklearn.pipeline import Pipeline, FeatureUnion\n",
    "from sklearn.feature_extraction.text import TfidfVectorizer\n",
    "from sklearn.preprocessing import StandardScaler, MinMaxScaler\n",
    "from sklearn.decomposition import TruncatedSVD\n",
    "from sklearn.ensemble import RandomForestClassifier\n",
    "from xgboost import XGBClassifier\n",
    "from sklearn.model_selection import train_test_split, GridSearchCV\n",
    "from sklearn.compose import ColumnTransformer\n",
    "from sklearn.decomposition import PCA\n",
    "\n",
    "\n",
    "# define model\n",
    "\n",
    "# model = XGBClassifier(max_depth=3, alpha = 10, n_estimators=300, learning_rate=0.1)\n",
    "# max_depth=10, n_estimators=300 \n",
    "model = RandomForestClassifier(random_state=42,max_depth=27, n_estimators=328 )\n",
    "\n",
    "# define transform\n",
    "numeric_transformer = Pipeline(steps=[\n",
    "                ('scaler', MinMaxScaler()),\n",
    "#                 ('pca', PCA(random_state=42,n_components=7)),\n",
    "])\n",
    "\n",
    "\n",
    "preprocessor = ColumnTransformer(\n",
    "    transformers=[\n",
    "        ('num', numeric_transformer,\n",
    "         df.columns,\n",
    "#          numeric_features ,\n",
    "        ),\n",
    "    ], remainder='drop')\n",
    "\n",
    "# Append classifier to preprocessing pipeline.\n",
    "# Now we have a full prediction pipeline.\n",
    "clf = Pipeline(steps=[('preprocessor', preprocessor),\n",
    "                      ('classifier', model)])"
   ]
  },
  {
   "cell_type": "code",
   "execution_count": 320,
   "metadata": {},
   "outputs": [],
   "source": [
    "# clf.get_params().keys()"
   ]
  },
  {
   "cell_type": "code",
   "execution_count": 321,
   "metadata": {},
   "outputs": [],
   "source": [
    "# param_grid = {\n",
    "#       'classifier__n_estimators':(10,50,100,200,300),\n",
    "#       'classifier__max_depth': (2,4,6,8,10,12),\n",
    "# #       'preprocessor__num__pca__n_components':(5,6,7,8,9,10)\n",
    "# }\n",
    "# search = GridSearchCV(clf, param_grid, cv=5, scoring=\"accuracy\").fit(X_train, y_train)\n",
    "# print(search.best_params_)\n",
    "# print(search.best_score_)"
   ]
  },
  {
   "cell_type": "code",
   "execution_count": 322,
   "metadata": {},
   "outputs": [
    {
     "name": "stdout",
     "output_type": "stream",
     "text": [
      "{'classifier__max_depth': 27, 'classifier__n_estimators': 328}\n",
      "0.2540106951871658\n"
     ]
    }
   ],
   "source": [
    "from scipy.stats import randint\n",
    "from sklearn.model_selection import RandomizedSearchCV\n",
    "\n",
    "param_grid = {\n",
    "      'classifier__n_estimators':randint(1,1000),\n",
    "      'classifier__max_depth': randint(1,30),\n",
    "#       'preprocessor__num__pca__n_components':randint(1,12)\n",
    "}\n",
    "search = RandomizedSearchCV(clf, param_grid, cv=5, scoring=\"accuracy\").fit(X_train, y_train)\n",
    "print(search.best_params_)\n",
    "print(search.best_score_)"
   ]
  },
  {
   "cell_type": "code",
   "execution_count": 324,
   "metadata": {},
   "outputs": [
    {
     "name": "stdout",
     "output_type": "stream",
     "text": [
      "Accuracy: 0.248\n",
      "              precision    recall  f1-score   support\n",
      "\n",
      "           1       0.00      0.00      0.00         3\n",
      "           2       0.00      0.00      0.00        14\n",
      "           3       0.24      0.47      0.32        15\n",
      "           4       0.31      0.42      0.36        38\n",
      "           5       0.13      0.19      0.15        16\n",
      "           6       0.27      0.16      0.20        19\n",
      "           7       0.25      0.15      0.19        13\n",
      "           8       0.00      0.00      0.00         5\n",
      "           9       0.00      0.00      0.00         2\n",
      "\n",
      "   micro avg       0.25      0.25      0.25       125\n",
      "   macro avg       0.13      0.15      0.14       125\n",
      "weighted avg       0.21      0.25      0.22       125\n",
      "\n"
     ]
    }
   ],
   "source": [
    "clf.fit(X_train,y_train)\n",
    "preds = clf.predict(X_test)\n",
    "\n",
    "from sklearn.metrics import accuracy_score,classification_report\n",
    "print(\"Accuracy:\", accuracy_score(y_test, preds))\n",
    "print(classification_report(y_test, preds))"
   ]
  },
  {
   "cell_type": "code",
   "execution_count": 325,
   "metadata": {},
   "outputs": [
    {
     "data": {
      "text/plain": [
       "Counter({4: 52, 7: 8, 3: 29, 5: 23, 6: 11, 2: 2})"
      ]
     },
     "execution_count": 325,
     "metadata": {},
     "output_type": "execute_result"
    }
   ],
   "source": [
    "from collections import Counter\n",
    "Counter(preds)"
   ]
  },
  {
   "cell_type": "code",
   "execution_count": 326,
   "metadata": {},
   "outputs": [],
   "source": [
    "def eval_score(y_test, preds):\n",
    "    total = len(y_test)\n",
    "    hits = 0 \n",
    "    for i,v in enumerate(preds):\n",
    "        if y_test.iloc[i]-v <2 and y_test.iloc[i]-v >-2:\n",
    "            hits +=1\n",
    "    return hits/total\n"
   ]
  },
  {
   "cell_type": "code",
   "execution_count": 327,
   "metadata": {},
   "outputs": [
    {
     "data": {
      "text/plain": [
       "0.608"
      ]
     },
     "execution_count": 327,
     "metadata": {},
     "output_type": "execute_result"
    }
   ],
   "source": [
    "eval_score(y_test,preds)"
   ]
  },
  {
   "cell_type": "code",
   "execution_count": null,
   "metadata": {},
   "outputs": [],
   "source": []
  },
  {
   "cell_type": "code",
   "execution_count": 156,
   "metadata": {},
   "outputs": [
    {
     "data": {
      "text/plain": [
       "'3'"
      ]
     },
     "execution_count": 156,
     "metadata": {},
     "output_type": "execute_result"
    }
   ],
   "source": [
    "str(clf.predict(final_df)[0])"
   ]
  }
 ],
 "metadata": {
  "kernelspec": {
   "display_name": "Python 3",
   "language": "python",
   "name": "python3"
  },
  "language_info": {
   "codemirror_mode": {
    "name": "ipython",
    "version": 3
   },
   "file_extension": ".py",
   "mimetype": "text/x-python",
   "name": "python",
   "nbconvert_exporter": "python",
   "pygments_lexer": "ipython3",
   "version": "3.7.7"
  },
  "toc-autonumbering": true
 },
 "nbformat": 4,
 "nbformat_minor": 4
}

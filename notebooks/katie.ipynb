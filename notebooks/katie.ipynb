{
 "cells": [
  {
   "cell_type": "markdown",
   "metadata": {},
   "source": [
    "## Creat Function to change docx to csv"
   ]
  },
  {
   "cell_type": "code",
   "execution_count": 1,
   "metadata": {},
   "outputs": [],
   "source": [
    "# pip install docx2txt"
   ]
  },
  {
   "cell_type": "code",
   "execution_count": 2,
   "metadata": {},
   "outputs": [],
   "source": [
    "import docx2txt\n",
    "\n",
    "from os import listdir\n",
    "from os.path import isfile, join,isdir\n",
    "\n",
    "import pandas as pd"
   ]
  },
  {
   "cell_type": "code",
   "execution_count": 3,
   "metadata": {},
   "outputs": [],
   "source": [
    "data_path = \"../essay_grader/data/Essays/\""
   ]
  },
  {
   "cell_type": "code",
   "execution_count": 4,
   "metadata": {},
   "outputs": [],
   "source": [
    "dirname = listdir(data_path)"
   ]
  },
  {
   "cell_type": "code",
   "execution_count": 5,
   "metadata": {},
   "outputs": [],
   "source": [
    "dirname = [f for f in listdir(data_path) if isdir(join(data_path, f))]"
   ]
  },
  {
   "cell_type": "code",
   "execution_count": 6,
   "metadata": {},
   "outputs": [
    {
     "data": {
      "text/plain": [
       "['2017', '2019', '2020', '2018']"
      ]
     },
     "execution_count": 6,
     "metadata": {},
     "output_type": "execute_result"
    }
   ],
   "source": [
    "dirname"
   ]
  },
  {
   "cell_type": "code",
   "execution_count": 7,
   "metadata": {},
   "outputs": [
    {
     "name": "stdout",
     "output_type": "stream",
     "text": [
      "2017 4, 2 - TOK_essay_lynn.doc\n",
      "2019 4, 2 - Dominic_Xu_Daran_2_1570_hbn244.doc\n"
     ]
    }
   ],
   "source": [
    "data = []\n",
    "for year in dirname:\n",
    "    files = [f for f in listdir(data_path+year) if isfile(join(data_path+year, f)) and not f.startswith(\".\")]\n",
    "    for i in files:\n",
    "        try :\n",
    "            text = docx2txt.process(data_path+year+'/'+i)\n",
    "            data.append([text, year,i])\n",
    "        except:\n",
    "            print(year,i)        "
   ]
  },
  {
   "cell_type": "code",
   "execution_count": 8,
   "metadata": {},
   "outputs": [],
   "source": [
    "df = pd.DataFrame(data, columns=[\"text\",\"year\",\"name\"])"
   ]
  },
  {
   "cell_type": "code",
   "execution_count": 9,
   "metadata": {},
   "outputs": [
    {
     "data": {
      "text/plain": [
       "(497, 3)"
      ]
     },
     "execution_count": 9,
     "metadata": {},
     "output_type": "execute_result"
    }
   ],
   "source": [
    "df.shape"
   ]
  },
  {
   "cell_type": "code",
   "execution_count": 10,
   "metadata": {},
   "outputs": [
    {
     "data": {
      "text/html": [
       "<div>\n",
       "<style scoped>\n",
       "    .dataframe tbody tr th:only-of-type {\n",
       "        vertical-align: middle;\n",
       "    }\n",
       "\n",
       "    .dataframe tbody tr th {\n",
       "        vertical-align: top;\n",
       "    }\n",
       "\n",
       "    .dataframe thead th {\n",
       "        text-align: right;\n",
       "    }\n",
       "</style>\n",
       "<table border=\"1\" class=\"dataframe\">\n",
       "  <thead>\n",
       "    <tr style=\"text-align: right;\">\n",
       "      <th></th>\n",
       "      <th>text</th>\n",
       "      <th>year</th>\n",
       "      <th>name</th>\n",
       "    </tr>\n",
       "  </thead>\n",
       "  <tbody>\n",
       "    <tr>\n",
       "      <th>0</th>\n",
       "      <td>The question is asking that, in the same disci...</td>\n",
       "      <td>2017</td>\n",
       "      <td>4, 5 - Est_Chen-fzn235-TOK_essay.docx</td>\n",
       "    </tr>\n",
       "    <tr>\n",
       "      <th>1</th>\n",
       "      <td>Our brains seek coherence, structure, and orde...</td>\n",
       "      <td>2017</td>\n",
       "      <td>7, 6 - Eva GuoTOK_final_final_draft.docx</td>\n",
       "    </tr>\n",
       "    <tr>\n",
       "      <th>2</th>\n",
       "      <td>In American Heritage® Dictionary of the Englis...</td>\n",
       "      <td>2017</td>\n",
       "      <td>7, 5 - fzn260_Yessica_Ji_Yuanyi_G12-9_TOKEssay...</td>\n",
       "    </tr>\n",
       "    <tr>\n",
       "      <th>3</th>\n",
       "      <td>The statement in the prompt argues that diffic...</td>\n",
       "      <td>2017</td>\n",
       "      <td>8, 1 - James Li TOK_Essay_4th_draft.docx</td>\n",
       "    </tr>\n",
       "    <tr>\n",
       "      <th>4</th>\n",
       "      <td>Human are pattern-seeking animals because patt...</td>\n",
       "      <td>2017</td>\n",
       "      <td>7, 6 - Fzn323_Amy_Wang_Qiaohui_G12_TOK_Essay_D...</td>\n",
       "    </tr>\n",
       "  </tbody>\n",
       "</table>\n",
       "</div>"
      ],
      "text/plain": [
       "                                                text  year  \\\n",
       "0  The question is asking that, in the same disci...  2017   \n",
       "1  Our brains seek coherence, structure, and orde...  2017   \n",
       "2  In American Heritage® Dictionary of the Englis...  2017   \n",
       "3  The statement in the prompt argues that diffic...  2017   \n",
       "4  Human are pattern-seeking animals because patt...  2017   \n",
       "\n",
       "                                                name  \n",
       "0              4, 5 - Est_Chen-fzn235-TOK_essay.docx  \n",
       "1           7, 6 - Eva GuoTOK_final_final_draft.docx  \n",
       "2  7, 5 - fzn260_Yessica_Ji_Yuanyi_G12-9_TOKEssay...  \n",
       "3           8, 1 - James Li TOK_Essay_4th_draft.docx  \n",
       "4  7, 6 - Fzn323_Amy_Wang_Qiaohui_G12_TOK_Essay_D...  "
      ]
     },
     "execution_count": 10,
     "metadata": {},
     "output_type": "execute_result"
    }
   ],
   "source": [
    "df.head()"
   ]
  },
  {
   "cell_type": "code",
   "execution_count": 11,
   "metadata": {},
   "outputs": [],
   "source": [
    "df[\"title\"]=df['name'].apply(lambda x:int(x.split(\",\")[1].strip()[0]))\n",
    "df['score'] = df['name'].apply(lambda x:int(x.split(\",\")[0]))"
   ]
  },
  {
   "cell_type": "code",
   "execution_count": 12,
   "metadata": {},
   "outputs": [
    {
     "data": {
      "text/plain": [
       "text     object\n",
       "year     object\n",
       "name     object\n",
       "title     int64\n",
       "score     int64\n",
       "dtype: object"
      ]
     },
     "execution_count": 12,
     "metadata": {},
     "output_type": "execute_result"
    }
   ],
   "source": [
    "df.dtypes"
   ]
  },
  {
   "cell_type": "code",
   "execution_count": 13,
   "metadata": {},
   "outputs": [],
   "source": [
    "df['level']= df[\"score\"].apply(lambda x:(x-1)//2+1)"
   ]
  },
  {
   "cell_type": "code",
   "execution_count": 14,
   "metadata": {},
   "outputs": [
    {
     "data": {
      "text/html": [
       "<div>\n",
       "<style scoped>\n",
       "    .dataframe tbody tr th:only-of-type {\n",
       "        vertical-align: middle;\n",
       "    }\n",
       "\n",
       "    .dataframe tbody tr th {\n",
       "        vertical-align: top;\n",
       "    }\n",
       "\n",
       "    .dataframe thead th {\n",
       "        text-align: right;\n",
       "    }\n",
       "</style>\n",
       "<table border=\"1\" class=\"dataframe\">\n",
       "  <thead>\n",
       "    <tr style=\"text-align: right;\">\n",
       "      <th></th>\n",
       "      <th>text</th>\n",
       "      <th>year</th>\n",
       "      <th>name</th>\n",
       "      <th>title</th>\n",
       "      <th>score</th>\n",
       "      <th>level</th>\n",
       "    </tr>\n",
       "  </thead>\n",
       "  <tbody>\n",
       "    <tr>\n",
       "      <th>427</th>\n",
       "      <td>‘Suspension of disbelief’ refers to a human be...</td>\n",
       "      <td>2018</td>\n",
       "      <td>4, 4 - gny262-Selena_Shi_Zhengyue_G12-6_TOK_Es...</td>\n",
       "      <td>4</td>\n",
       "      <td>4</td>\n",
       "      <td>2</td>\n",
       "    </tr>\n",
       "    <tr>\n",
       "      <th>316</th>\n",
       "      <td>Most of people believe that the new knowledge ...</td>\n",
       "      <td>2020</td>\n",
       "      <td>4, 6 - hnh335_Kun_Chen_Title6_1597.docx</td>\n",
       "      <td>6</td>\n",
       "      <td>4</td>\n",
       "      <td>2</td>\n",
       "    </tr>\n",
       "    <tr>\n",
       "      <th>8</th>\n",
       "      <td>Pattern is a kind of a consistent phenomenon o...</td>\n",
       "      <td>2017</td>\n",
       "      <td>9, 6 - Vincent_Ru_TOK_Essay.docx</td>\n",
       "      <td>6</td>\n",
       "      <td>9</td>\n",
       "      <td>5</td>\n",
       "    </tr>\n",
       "  </tbody>\n",
       "</table>\n",
       "</div>"
      ],
      "text/plain": [
       "                                                  text  year  \\\n",
       "427  ‘Suspension of disbelief’ refers to a human be...  2018   \n",
       "316  Most of people believe that the new knowledge ...  2020   \n",
       "8    Pattern is a kind of a consistent phenomenon o...  2017   \n",
       "\n",
       "                                                  name  title  score  level  \n",
       "427  4, 4 - gny262-Selena_Shi_Zhengyue_G12-6_TOK_Es...      4      4      2  \n",
       "316            4, 6 - hnh335_Kun_Chen_Title6_1597.docx      6      4      2  \n",
       "8                     9, 6 - Vincent_Ru_TOK_Essay.docx      6      9      5  "
      ]
     },
     "execution_count": 14,
     "metadata": {},
     "output_type": "execute_result"
    }
   ],
   "source": [
    "df.sample(3)"
   ]
  },
  {
   "cell_type": "code",
   "execution_count": 15,
   "metadata": {},
   "outputs": [],
   "source": [
    "title_2017 = {\n",
    "    1:\"It is only knowledge produced with difficulty that we truly value.\",\n",
    "    2:\"Facts are needed to establish theories but theories are needed to make sense of facts.\",\n",
    "    3:\"Should key events in the historical development of areas of knowledge always be judged by the standards of their time?\",\n",
    "    4:\"In the production of knowledge, traditions of areas of knowledge offer correctives for ways of knowing.\",\n",
    "    5:\"Given access to the same facts, how is it possible that there can be disagreement between experts in a discipline?\",\n",
    "    6:\"Humans are pattern-seeking animals and we are adept at finding patterns whether they exist or not\",\n",
    "}"
   ]
  },
  {
   "cell_type": "code",
   "execution_count": 16,
   "metadata": {},
   "outputs": [],
   "source": [
    "title_2018 = {\n",
    "    1:\"The fields of study of academic disciplines can overlap, but adopting interdisciplinary approaches to the production of knowledge leads only to confusion.\",\n",
    "    2:\"We know with confidence only when we know little; with knowledge doubt increases\",\n",
    "    3:\"Without the assumption of the existence of uniformities there can be no knowledge.\",\n",
    "    4:\"'Suspension of disbelief' is an essential feature of theatre. Is it essential in other areas of knowledge?\",\n",
    "    5:\"The quality of knowledge produced by an academic discipline is directly proportional to the duration of historical development of that discipline.\",\n",
    "    6:\"Robust knowledge requires both consensus and disagreement.\",\n",
    "}"
   ]
  },
  {
   "cell_type": "code",
   "execution_count": 17,
   "metadata": {},
   "outputs": [],
   "source": [
    "title_2019 = {\n",
    "    1:\"The quality of knowledge is best measured by how many people accept it.\",\n",
    "    2:\"The production of knowledge is always a collaborative task and never solely a product of the individual.\",\n",
    "    3:\"Do good explanations have to be true?\",\n",
    "    4:\"Disinterestedness is essential in the pursuit of knowledge.\",\n",
    "    5:\"The production of knowledge requires accepting conclusions that go beyond the evidence for them.\",\n",
    "    6:\"One way to assure the health of a discipline is to nurture contrasting perspectives.\",\n",
    "}"
   ]
  },
  {
   "cell_type": "code",
   "execution_count": 18,
   "metadata": {},
   "outputs": [],
   "source": [
    "title_2020 = {\n",
    "    1:\"Others have seen what is and asked why. I have seen what could be and asked why not\",\n",
    "    2:\"There is a sharp line between describing something and offering an explanation of it.\",\n",
    "    3:\"Does it matter that your personal circumstances influence how seriously your knowledge is taken?\",\n",
    "    4:\"The role of analogy is to aid understanding rather than to provide justification.\",\n",
    "    5:\"Given that every theory has its limitations, we need to retain a multiplicity of theories to understand the world.\",\n",
    "    6:\"Present knowledge is wholly dependent on past knowledge.\"\n",
    "}"
   ]
  },
  {
   "cell_type": "code",
   "execution_count": 19,
   "metadata": {},
   "outputs": [],
   "source": [
    "mapping ={\n",
    "    '2017': title_2017 ,\n",
    "    '2018': title_2018,\n",
    "    '2019': title_2019,\n",
    "    '2020': title_2020,   \n",
    "}"
   ]
  },
  {
   "cell_type": "code",
   "execution_count": 20,
   "metadata": {},
   "outputs": [
    {
     "data": {
      "text/html": [
       "<div>\n",
       "<style scoped>\n",
       "    .dataframe tbody tr th:only-of-type {\n",
       "        vertical-align: middle;\n",
       "    }\n",
       "\n",
       "    .dataframe tbody tr th {\n",
       "        vertical-align: top;\n",
       "    }\n",
       "\n",
       "    .dataframe thead th {\n",
       "        text-align: right;\n",
       "    }\n",
       "</style>\n",
       "<table border=\"1\" class=\"dataframe\">\n",
       "  <thead>\n",
       "    <tr style=\"text-align: right;\">\n",
       "      <th></th>\n",
       "      <th>text</th>\n",
       "      <th>year</th>\n",
       "      <th>name</th>\n",
       "      <th>title</th>\n",
       "      <th>score</th>\n",
       "      <th>level</th>\n",
       "    </tr>\n",
       "  </thead>\n",
       "  <tbody>\n",
       "    <tr>\n",
       "      <th>0</th>\n",
       "      <td>The question is asking that, in the same disci...</td>\n",
       "      <td>2017</td>\n",
       "      <td>4, 5 - Est_Chen-fzn235-TOK_essay.docx</td>\n",
       "      <td>5</td>\n",
       "      <td>4</td>\n",
       "      <td>2</td>\n",
       "    </tr>\n",
       "    <tr>\n",
       "      <th>1</th>\n",
       "      <td>Our brains seek coherence, structure, and orde...</td>\n",
       "      <td>2017</td>\n",
       "      <td>7, 6 - Eva GuoTOK_final_final_draft.docx</td>\n",
       "      <td>6</td>\n",
       "      <td>7</td>\n",
       "      <td>4</td>\n",
       "    </tr>\n",
       "    <tr>\n",
       "      <th>2</th>\n",
       "      <td>In American Heritage® Dictionary of the Englis...</td>\n",
       "      <td>2017</td>\n",
       "      <td>7, 5 - fzn260_Yessica_Ji_Yuanyi_G12-9_TOKEssay...</td>\n",
       "      <td>5</td>\n",
       "      <td>7</td>\n",
       "      <td>4</td>\n",
       "    </tr>\n",
       "    <tr>\n",
       "      <th>3</th>\n",
       "      <td>The statement in the prompt argues that diffic...</td>\n",
       "      <td>2017</td>\n",
       "      <td>8, 1 - James Li TOK_Essay_4th_draft.docx</td>\n",
       "      <td>1</td>\n",
       "      <td>8</td>\n",
       "      <td>4</td>\n",
       "    </tr>\n",
       "    <tr>\n",
       "      <th>4</th>\n",
       "      <td>Human are pattern-seeking animals because patt...</td>\n",
       "      <td>2017</td>\n",
       "      <td>7, 6 - Fzn323_Amy_Wang_Qiaohui_G12_TOK_Essay_D...</td>\n",
       "      <td>6</td>\n",
       "      <td>7</td>\n",
       "      <td>4</td>\n",
       "    </tr>\n",
       "  </tbody>\n",
       "</table>\n",
       "</div>"
      ],
      "text/plain": [
       "                                                text  year  \\\n",
       "0  The question is asking that, in the same disci...  2017   \n",
       "1  Our brains seek coherence, structure, and orde...  2017   \n",
       "2  In American Heritage® Dictionary of the Englis...  2017   \n",
       "3  The statement in the prompt argues that diffic...  2017   \n",
       "4  Human are pattern-seeking animals because patt...  2017   \n",
       "\n",
       "                                                name  title  score  level  \n",
       "0              4, 5 - Est_Chen-fzn235-TOK_essay.docx      5      4      2  \n",
       "1           7, 6 - Eva GuoTOK_final_final_draft.docx      6      7      4  \n",
       "2  7, 5 - fzn260_Yessica_Ji_Yuanyi_G12-9_TOKEssay...      5      7      4  \n",
       "3           8, 1 - James Li TOK_Essay_4th_draft.docx      1      8      4  \n",
       "4  7, 6 - Fzn323_Amy_Wang_Qiaohui_G12_TOK_Essay_D...      6      7      4  "
      ]
     },
     "execution_count": 20,
     "metadata": {},
     "output_type": "execute_result"
    }
   ],
   "source": [
    "df.head()"
   ]
  },
  {
   "cell_type": "code",
   "execution_count": 21,
   "metadata": {},
   "outputs": [],
   "source": [
    "for index,row in df.iterrows():\n",
    "    row['title_name']= mapping[row['year']][row['title']]\n",
    "    df.loc[index, 'title_name'] = row['title_name']"
   ]
  },
  {
   "cell_type": "code",
   "execution_count": 22,
   "metadata": {},
   "outputs": [
    {
     "data": {
      "text/html": [
       "<div>\n",
       "<style scoped>\n",
       "    .dataframe tbody tr th:only-of-type {\n",
       "        vertical-align: middle;\n",
       "    }\n",
       "\n",
       "    .dataframe tbody tr th {\n",
       "        vertical-align: top;\n",
       "    }\n",
       "\n",
       "    .dataframe thead th {\n",
       "        text-align: right;\n",
       "    }\n",
       "</style>\n",
       "<table border=\"1\" class=\"dataframe\">\n",
       "  <thead>\n",
       "    <tr style=\"text-align: right;\">\n",
       "      <th></th>\n",
       "      <th>text</th>\n",
       "      <th>year</th>\n",
       "      <th>name</th>\n",
       "      <th>title</th>\n",
       "      <th>score</th>\n",
       "      <th>level</th>\n",
       "      <th>title_name</th>\n",
       "    </tr>\n",
       "  </thead>\n",
       "  <tbody>\n",
       "    <tr>\n",
       "      <th>0</th>\n",
       "      <td>The question is asking that, in the same disci...</td>\n",
       "      <td>2017</td>\n",
       "      <td>4, 5 - Est_Chen-fzn235-TOK_essay.docx</td>\n",
       "      <td>5</td>\n",
       "      <td>4</td>\n",
       "      <td>2</td>\n",
       "      <td>Given access to the same facts, how is it poss...</td>\n",
       "    </tr>\n",
       "    <tr>\n",
       "      <th>1</th>\n",
       "      <td>Our brains seek coherence, structure, and orde...</td>\n",
       "      <td>2017</td>\n",
       "      <td>7, 6 - Eva GuoTOK_final_final_draft.docx</td>\n",
       "      <td>6</td>\n",
       "      <td>7</td>\n",
       "      <td>4</td>\n",
       "      <td>Humans are pattern-seeking animals and we are ...</td>\n",
       "    </tr>\n",
       "    <tr>\n",
       "      <th>2</th>\n",
       "      <td>In American Heritage® Dictionary of the Englis...</td>\n",
       "      <td>2017</td>\n",
       "      <td>7, 5 - fzn260_Yessica_Ji_Yuanyi_G12-9_TOKEssay...</td>\n",
       "      <td>5</td>\n",
       "      <td>7</td>\n",
       "      <td>4</td>\n",
       "      <td>Given access to the same facts, how is it poss...</td>\n",
       "    </tr>\n",
       "    <tr>\n",
       "      <th>3</th>\n",
       "      <td>The statement in the prompt argues that diffic...</td>\n",
       "      <td>2017</td>\n",
       "      <td>8, 1 - James Li TOK_Essay_4th_draft.docx</td>\n",
       "      <td>1</td>\n",
       "      <td>8</td>\n",
       "      <td>4</td>\n",
       "      <td>It is only knowledge produced with difficulty ...</td>\n",
       "    </tr>\n",
       "    <tr>\n",
       "      <th>4</th>\n",
       "      <td>Human are pattern-seeking animals because patt...</td>\n",
       "      <td>2017</td>\n",
       "      <td>7, 6 - Fzn323_Amy_Wang_Qiaohui_G12_TOK_Essay_D...</td>\n",
       "      <td>6</td>\n",
       "      <td>7</td>\n",
       "      <td>4</td>\n",
       "      <td>Humans are pattern-seeking animals and we are ...</td>\n",
       "    </tr>\n",
       "  </tbody>\n",
       "</table>\n",
       "</div>"
      ],
      "text/plain": [
       "                                                text  year  \\\n",
       "0  The question is asking that, in the same disci...  2017   \n",
       "1  Our brains seek coherence, structure, and orde...  2017   \n",
       "2  In American Heritage® Dictionary of the Englis...  2017   \n",
       "3  The statement in the prompt argues that diffic...  2017   \n",
       "4  Human are pattern-seeking animals because patt...  2017   \n",
       "\n",
       "                                                name  title  score  level  \\\n",
       "0              4, 5 - Est_Chen-fzn235-TOK_essay.docx      5      4      2   \n",
       "1           7, 6 - Eva GuoTOK_final_final_draft.docx      6      7      4   \n",
       "2  7, 5 - fzn260_Yessica_Ji_Yuanyi_G12-9_TOKEssay...      5      7      4   \n",
       "3           8, 1 - James Li TOK_Essay_4th_draft.docx      1      8      4   \n",
       "4  7, 6 - Fzn323_Amy_Wang_Qiaohui_G12_TOK_Essay_D...      6      7      4   \n",
       "\n",
       "                                          title_name  \n",
       "0  Given access to the same facts, how is it poss...  \n",
       "1  Humans are pattern-seeking animals and we are ...  \n",
       "2  Given access to the same facts, how is it poss...  \n",
       "3  It is only knowledge produced with difficulty ...  \n",
       "4  Humans are pattern-seeking animals and we are ...  "
      ]
     },
     "execution_count": 22,
     "metadata": {},
     "output_type": "execute_result"
    }
   ],
   "source": [
    "df.head()"
   ]
  },
  {
   "cell_type": "code",
   "execution_count": 23,
   "metadata": {},
   "outputs": [
    {
     "data": {
      "text/plain": [
       "(497, 7)"
      ]
     },
     "execution_count": 23,
     "metadata": {},
     "output_type": "execute_result"
    }
   ],
   "source": [
    "df.shape"
   ]
  },
  {
   "cell_type": "code",
   "execution_count": null,
   "metadata": {},
   "outputs": [],
   "source": []
  },
  {
   "cell_type": "code",
   "execution_count": 24,
   "metadata": {},
   "outputs": [
    {
     "data": {
      "text/html": [
       "<div>\n",
       "<style scoped>\n",
       "    .dataframe tbody tr th:only-of-type {\n",
       "        vertical-align: middle;\n",
       "    }\n",
       "\n",
       "    .dataframe tbody tr th {\n",
       "        vertical-align: top;\n",
       "    }\n",
       "\n",
       "    .dataframe thead th {\n",
       "        text-align: right;\n",
       "    }\n",
       "</style>\n",
       "<table border=\"1\" class=\"dataframe\">\n",
       "  <thead>\n",
       "    <tr style=\"text-align: right;\">\n",
       "      <th></th>\n",
       "      <th>text</th>\n",
       "      <th>year</th>\n",
       "      <th>name</th>\n",
       "      <th>title</th>\n",
       "      <th>score</th>\n",
       "      <th>level</th>\n",
       "      <th>title_name</th>\n",
       "    </tr>\n",
       "  </thead>\n",
       "  <tbody>\n",
       "    <tr>\n",
       "      <th>0</th>\n",
       "      <td>The question is asking that, in the same disci...</td>\n",
       "      <td>2017</td>\n",
       "      <td>4, 5 - Est_Chen-fzn235-TOK_essay.docx</td>\n",
       "      <td>5</td>\n",
       "      <td>4</td>\n",
       "      <td>2</td>\n",
       "      <td>Given access to the same facts, how is it poss...</td>\n",
       "    </tr>\n",
       "    <tr>\n",
       "      <th>1</th>\n",
       "      <td>Our brains seek coherence, structure, and orde...</td>\n",
       "      <td>2017</td>\n",
       "      <td>7, 6 - Eva GuoTOK_final_final_draft.docx</td>\n",
       "      <td>6</td>\n",
       "      <td>7</td>\n",
       "      <td>4</td>\n",
       "      <td>Humans are pattern-seeking animals and we are ...</td>\n",
       "    </tr>\n",
       "    <tr>\n",
       "      <th>2</th>\n",
       "      <td>In American Heritage® Dictionary of the Englis...</td>\n",
       "      <td>2017</td>\n",
       "      <td>7, 5 - fzn260_Yessica_Ji_Yuanyi_G12-9_TOKEssay...</td>\n",
       "      <td>5</td>\n",
       "      <td>7</td>\n",
       "      <td>4</td>\n",
       "      <td>Given access to the same facts, how is it poss...</td>\n",
       "    </tr>\n",
       "    <tr>\n",
       "      <th>3</th>\n",
       "      <td>The statement in the prompt argues that diffic...</td>\n",
       "      <td>2017</td>\n",
       "      <td>8, 1 - James Li TOK_Essay_4th_draft.docx</td>\n",
       "      <td>1</td>\n",
       "      <td>8</td>\n",
       "      <td>4</td>\n",
       "      <td>It is only knowledge produced with difficulty ...</td>\n",
       "    </tr>\n",
       "    <tr>\n",
       "      <th>4</th>\n",
       "      <td>Human are pattern-seeking animals because patt...</td>\n",
       "      <td>2017</td>\n",
       "      <td>7, 6 - Fzn323_Amy_Wang_Qiaohui_G12_TOK_Essay_D...</td>\n",
       "      <td>6</td>\n",
       "      <td>7</td>\n",
       "      <td>4</td>\n",
       "      <td>Humans are pattern-seeking animals and we are ...</td>\n",
       "    </tr>\n",
       "  </tbody>\n",
       "</table>\n",
       "</div>"
      ],
      "text/plain": [
       "                                                text  year  \\\n",
       "0  The question is asking that, in the same disci...  2017   \n",
       "1  Our brains seek coherence, structure, and orde...  2017   \n",
       "2  In American Heritage® Dictionary of the Englis...  2017   \n",
       "3  The statement in the prompt argues that diffic...  2017   \n",
       "4  Human are pattern-seeking animals because patt...  2017   \n",
       "\n",
       "                                                name  title  score  level  \\\n",
       "0              4, 5 - Est_Chen-fzn235-TOK_essay.docx      5      4      2   \n",
       "1           7, 6 - Eva GuoTOK_final_final_draft.docx      6      7      4   \n",
       "2  7, 5 - fzn260_Yessica_Ji_Yuanyi_G12-9_TOKEssay...      5      7      4   \n",
       "3           8, 1 - James Li TOK_Essay_4th_draft.docx      1      8      4   \n",
       "4  7, 6 - Fzn323_Amy_Wang_Qiaohui_G12_TOK_Essay_D...      6      7      4   \n",
       "\n",
       "                                          title_name  \n",
       "0  Given access to the same facts, how is it poss...  \n",
       "1  Humans are pattern-seeking animals and we are ...  \n",
       "2  Given access to the same facts, how is it poss...  \n",
       "3  It is only knowledge produced with difficulty ...  \n",
       "4  Humans are pattern-seeking animals and we are ...  "
      ]
     },
     "execution_count": 24,
     "metadata": {},
     "output_type": "execute_result"
    }
   ],
   "source": [
    "df.head()"
   ]
  },
  {
   "cell_type": "code",
   "execution_count": null,
   "metadata": {},
   "outputs": [],
   "source": []
  },
  {
   "cell_type": "markdown",
   "metadata": {},
   "source": [
    "## Play with Spacy"
   ]
  },
  {
   "cell_type": "code",
   "execution_count": 1,
   "metadata": {},
   "outputs": [
    {
     "name": "stdout",
     "output_type": "stream",
     "text": [
      "This is a sentence.\n"
     ]
    }
   ],
   "source": [
    "# Import the English language class\n",
    "from spacy.lang.en import English\n",
    "\n",
    "# Create the nlp object\n",
    "nlp = English()\n",
    "\n",
    "# Process a text\n",
    "doc = nlp(\"This is a sentence.\")\n",
    "\n",
    "# Print the document text\n",
    "print(doc.text)"
   ]
  },
  {
   "cell_type": "code",
   "execution_count": 2,
   "metadata": {},
   "outputs": [
    {
     "data": {
      "text/plain": [
       "This"
      ]
     },
     "execution_count": 2,
     "metadata": {},
     "output_type": "execute_result"
    }
   ],
   "source": [
    "doc[0]"
   ]
  },
  {
   "cell_type": "code",
   "execution_count": 32,
   "metadata": {},
   "outputs": [
    {
     "name": "stdout",
     "output_type": "stream",
     "text": [
      "she PRON nsubj ate\n",
      "ate VERB ROOT ate\n",
      "1 NUM nummod pizza\n",
      "pizza NOUN dobj ate\n",
      ". PUNCT punct ate\n"
     ]
    }
   ],
   "source": [
    "import spacy\n",
    "\n",
    "nlp = spacy.load(\"en_core_web_sm\")\n",
    "\n",
    "doc = nlp(\"she ate 1 pizza.\")\n",
    "for token in doc:\n",
    "    print(token.text, token.pos_, token.dep_, token.head.text)"
   ]
  },
  {
   "cell_type": "code",
   "execution_count": 39,
   "metadata": {},
   "outputs": [
    {
     "name": "stdout",
     "output_type": "stream",
     "text": [
      "Apple ORG\n",
      "Missing entity: iPhone X\n"
     ]
    }
   ],
   "source": [
    "nlp = spacy.load(\"en_core_web_sm\")\n",
    "\n",
    "text = \"New iPhone X release date leaked as Apple reveals pre-orders by mistake\"\n",
    "\n",
    "# Process the text\n",
    "doc = nlp(text)\n",
    "\n",
    "# Iterate over the entities\n",
    "for ent in doc.ents:\n",
    "    # print the entity text and label\n",
    "    print(ent.text, ent.label_)\n",
    "\n",
    "# Get the span for \"iPhone X\"\n",
    "iphone_x = doc[1:3]\n",
    "\n",
    "# Print the span text\n",
    "print('Missing entity:', iphone_x.text)"
   ]
  },
  {
   "cell_type": "markdown",
   "metadata": {},
   "source": [
    "## Use spacy to build model"
   ]
  },
  {
   "cell_type": "code",
   "execution_count": 59,
   "metadata": {},
   "outputs": [],
   "source": [
    "import pandas as pd\n",
    "import numpy as np\n",
    "import matplotlib.pyplot as plt\n",
    "\n",
    "import spacy"
   ]
  },
  {
   "cell_type": "code",
   "execution_count": 100,
   "metadata": {},
   "outputs": [],
   "source": [
    "df = pd.read_csv(\"../essay_grader/data/essay_data1.csv\")"
   ]
  },
  {
   "cell_type": "code",
   "execution_count": 44,
   "metadata": {},
   "outputs": [],
   "source": [
    "# df.text[0]"
   ]
  },
  {
   "cell_type": "code",
   "execution_count": 24,
   "metadata": {},
   "outputs": [],
   "source": [
    "import os\n",
    "import sys\n",
    "path = os.path.abspath('..')\n",
    "sys.path.append(path)\n",
    "from essay_grader.lemmatize import lemmatize"
   ]
  },
  {
   "cell_type": "code",
   "execution_count": 25,
   "metadata": {},
   "outputs": [],
   "source": [
    "from essay_grader.lemmatize import lemmatize\n",
    "from essay_grader.punctuation import clean_string\n",
    "from essay_grader.biliography import remove_all\n",
    "from essay_grader.vectorize import doc2vec_vectorize"
   ]
  },
  {
   "cell_type": "code",
   "execution_count": 12,
   "metadata": {},
   "outputs": [],
   "source": [
    "# sys.path.append('/Users/katie/code/others/nlp-essay-grader/')"
   ]
  },
  {
   "cell_type": "code",
   "execution_count": 26,
   "metadata": {},
   "outputs": [
    {
     "name": "stdout",
     "output_type": "stream",
     "text": [
      "The autoreload extension is already loaded. To reload it, use:\n",
      "  %reload_ext autoreload\n"
     ]
    }
   ],
   "source": [
    "%load_ext autoreload\n",
    "\n",
    "%autoreload 2"
   ]
  },
  {
   "cell_type": "code",
   "execution_count": 27,
   "metadata": {},
   "outputs": [
    {
     "name": "stderr",
     "output_type": "stream",
     "text": [
      "2020-08-20 09:47:34 WARNING: Can not find mwt: default from official model list. Ignoring it.\n",
      "2020-08-20 09:47:34 INFO: Loading these models for language: en (English):\n",
      "=======================\n",
      "| Processor | Package |\n",
      "-----------------------\n",
      "| tokenize  | ewt     |\n",
      "| pos       | ewt     |\n",
      "| lemma     | ewt     |\n",
      "=======================\n",
      "\n",
      "2020-08-20 09:47:34 INFO: Use device: cpu\n",
      "2020-08-20 09:47:34 INFO: Loading: tokenize\n",
      "2020-08-20 09:47:34 INFO: Loading: pos\n",
      "2020-08-20 09:47:35 INFO: Loading: lemma\n",
      "2020-08-20 09:47:35 INFO: Done loading processors!\n"
     ]
    }
   ],
   "source": [
    "df1= lemmatize(df[:10], col='text')"
   ]
  },
  {
   "cell_type": "code",
   "execution_count": 15,
   "metadata": {},
   "outputs": [],
   "source": [
    "pip install stanza"
   ]
  },
  {
   "cell_type": "code",
   "execution_count": 35,
   "metadata": {},
   "outputs": [
    {
     "name": "stderr",
     "output_type": "stream",
     "text": [
      "Downloading https://raw.githubusercontent.com/stanfordnlp/stanza-resources/master/resources_1.1.0.json: 122kB [00:08, 15.1kB/s]                    \n",
      "2020-08-19 17:55:58 INFO: Downloading default packages for language: en (English)...\n",
      "Downloading http://nlp.stanford.edu/software/stanza/1.1.0/en/default.zip: 100%|██████████| 428M/428M [09:37<00:00, 741kB/s]    \n",
      "2020-08-19 18:06:04 INFO: Finished downloading models and saved to /Users/katie/stanza_resources.\n"
     ]
    }
   ],
   "source": [
    "import stanza\n",
    "stanza.download(\"en\")"
   ]
  },
  {
   "cell_type": "code",
   "execution_count": 29,
   "metadata": {},
   "outputs": [
    {
     "data": {
      "text/html": [
       "<div>\n",
       "<style scoped>\n",
       "    .dataframe tbody tr th:only-of-type {\n",
       "        vertical-align: middle;\n",
       "    }\n",
       "\n",
       "    .dataframe tbody tr th {\n",
       "        vertical-align: top;\n",
       "    }\n",
       "\n",
       "    .dataframe thead th {\n",
       "        text-align: right;\n",
       "    }\n",
       "</style>\n",
       "<table border=\"1\" class=\"dataframe\">\n",
       "  <thead>\n",
       "    <tr style=\"text-align: right;\">\n",
       "      <th></th>\n",
       "      <th>text</th>\n",
       "      <th>year</th>\n",
       "      <th>name</th>\n",
       "      <th>title</th>\n",
       "      <th>score</th>\n",
       "      <th>level</th>\n",
       "      <th>title_name</th>\n",
       "      <th>lemmatized_text</th>\n",
       "    </tr>\n",
       "  </thead>\n",
       "  <tbody>\n",
       "    <tr>\n",
       "      <th>0</th>\n",
       "      <td>The question is asking that, in the same disci...</td>\n",
       "      <td>2017</td>\n",
       "      <td>4, 5 - Est_Chen-fzn235-TOK_essay.docx</td>\n",
       "      <td>5</td>\n",
       "      <td>4</td>\n",
       "      <td>2</td>\n",
       "      <td>Given access to the same facts, how is it poss...</td>\n",
       "      <td>[[the, question, be, ask, that, ,, in, the, sa...</td>\n",
       "    </tr>\n",
       "    <tr>\n",
       "      <th>1</th>\n",
       "      <td>Our brains seek coherence, structure, and orde...</td>\n",
       "      <td>2017</td>\n",
       "      <td>7, 6 - Eva GuoTOK_final_final_draft.docx</td>\n",
       "      <td>6</td>\n",
       "      <td>7</td>\n",
       "      <td>4</td>\n",
       "      <td>Humans are pattern-seeking animals and we are ...</td>\n",
       "      <td>[[we, brain, seek, coherence, ,, structure, ,,...</td>\n",
       "    </tr>\n",
       "    <tr>\n",
       "      <th>2</th>\n",
       "      <td>In American Heritage® Dictionary of the Englis...</td>\n",
       "      <td>2017</td>\n",
       "      <td>7, 5 - fzn260_Yessica_Ji_Yuanyi_G12-9_TOKEssay...</td>\n",
       "      <td>5</td>\n",
       "      <td>7</td>\n",
       "      <td>4</td>\n",
       "      <td>Given access to the same facts, how is it poss...</td>\n",
       "      <td>[[in, American, Heritage®, dictionary, of, the...</td>\n",
       "    </tr>\n",
       "    <tr>\n",
       "      <th>3</th>\n",
       "      <td>The statement in the prompt argues that diffic...</td>\n",
       "      <td>2017</td>\n",
       "      <td>8, 1 - James Li TOK_Essay_4th_draft.docx</td>\n",
       "      <td>1</td>\n",
       "      <td>8</td>\n",
       "      <td>4</td>\n",
       "      <td>It is only knowledge produced with difficulty ...</td>\n",
       "      <td>[[the, statement, in, the, prompt, argue, that...</td>\n",
       "    </tr>\n",
       "    <tr>\n",
       "      <th>4</th>\n",
       "      <td>Human are pattern-seeking animals because patt...</td>\n",
       "      <td>2017</td>\n",
       "      <td>7, 6 - Fzn323_Amy_Wang_Qiaohui_G12_TOK_Essay_D...</td>\n",
       "      <td>6</td>\n",
       "      <td>7</td>\n",
       "      <td>4</td>\n",
       "      <td>Humans are pattern-seeking animals and we are ...</td>\n",
       "      <td>[[human, be, pattern, -, seek, animal, because...</td>\n",
       "    </tr>\n",
       "  </tbody>\n",
       "</table>\n",
       "</div>"
      ],
      "text/plain": [
       "                                                text  year  \\\n",
       "0  The question is asking that, in the same disci...  2017   \n",
       "1  Our brains seek coherence, structure, and orde...  2017   \n",
       "2  In American Heritage® Dictionary of the Englis...  2017   \n",
       "3  The statement in the prompt argues that diffic...  2017   \n",
       "4  Human are pattern-seeking animals because patt...  2017   \n",
       "\n",
       "                                                name  title  score  level  \\\n",
       "0              4, 5 - Est_Chen-fzn235-TOK_essay.docx      5      4      2   \n",
       "1           7, 6 - Eva GuoTOK_final_final_draft.docx      6      7      4   \n",
       "2  7, 5 - fzn260_Yessica_Ji_Yuanyi_G12-9_TOKEssay...      5      7      4   \n",
       "3           8, 1 - James Li TOK_Essay_4th_draft.docx      1      8      4   \n",
       "4  7, 6 - Fzn323_Amy_Wang_Qiaohui_G12_TOK_Essay_D...      6      7      4   \n",
       "\n",
       "                                          title_name  \\\n",
       "0  Given access to the same facts, how is it poss...   \n",
       "1  Humans are pattern-seeking animals and we are ...   \n",
       "2  Given access to the same facts, how is it poss...   \n",
       "3  It is only knowledge produced with difficulty ...   \n",
       "4  Humans are pattern-seeking animals and we are ...   \n",
       "\n",
       "                                     lemmatized_text  \n",
       "0  [[the, question, be, ask, that, ,, in, the, sa...  \n",
       "1  [[we, brain, seek, coherence, ,, structure, ,,...  \n",
       "2  [[in, American, Heritage®, dictionary, of, the...  \n",
       "3  [[the, statement, in, the, prompt, argue, that...  \n",
       "4  [[human, be, pattern, -, seek, animal, because...  "
      ]
     },
     "execution_count": 29,
     "metadata": {},
     "output_type": "execute_result"
    }
   ],
   "source": [
    "df1.head()"
   ]
  },
  {
   "cell_type": "code",
   "execution_count": 61,
   "metadata": {},
   "outputs": [],
   "source": [
    "df = remove_all(df)"
   ]
  },
  {
   "cell_type": "code",
   "execution_count": 62,
   "metadata": {},
   "outputs": [],
   "source": [
    "df = clean_string(df)"
   ]
  },
  {
   "cell_type": "code",
   "execution_count": 49,
   "metadata": {},
   "outputs": [],
   "source": [
    "# df.head().text[0]"
   ]
  },
  {
   "cell_type": "code",
   "execution_count": 22,
   "metadata": {},
   "outputs": [],
   "source": [
    "from sklearn.model_selection import train_test_split\n",
    "X_train, X_test, y_train, y_test = train_test_split(df.drop(columns = ['level']), df['level'], random_state = 0, test_size = 0.2)"
   ]
  },
  {
   "cell_type": "markdown",
   "metadata": {},
   "source": [
    "## USE tfidf and RidgeClassifier to build ML model"
   ]
  },
  {
   "cell_type": "code",
   "execution_count": 24,
   "metadata": {},
   "outputs": [
    {
     "data": {
      "text/plain": [
       "0.48"
      ]
     },
     "execution_count": 24,
     "metadata": {},
     "output_type": "execute_result"
    }
   ],
   "source": [
    "import pandas as pd\n",
    "\n",
    "from sklearn.feature_extraction.text import TfidfVectorizer\n",
    "from sklearn.linear_model import RidgeClassifier\n",
    "from sklearn.metrics import accuracy_score, confusion_matrix, classification_report, f1_score\n",
    "\n",
    "\n",
    "tfidf = TfidfVectorizer(ngram_range=(1,3), max_features=300)\n",
    "train_test = tfidf.fit_transform(X_train['text'])\n",
    "\n",
    "clf = RidgeClassifier()\n",
    "clf.fit(train_test, y_train)\n",
    "\n",
    "y_pred = clf.predict(tfidf.fit_transform(X_test['text']))\n",
    "                   \n",
    "accuracy_score(y_test, y_pred)"
   ]
  },
  {
   "cell_type": "code",
   "execution_count": 25,
   "metadata": {},
   "outputs": [
    {
     "name": "stdout",
     "output_type": "stream",
     "text": [
      "              precision    recall  f1-score   support\n",
      "\n",
      "           1       0.00      0.00      0.00        13\n",
      "           2       0.49      0.94      0.64        48\n",
      "           3       0.38      0.11      0.17        27\n",
      "           4       0.00      0.00      0.00        12\n",
      "\n",
      "   micro avg       0.48      0.48      0.48       100\n",
      "   macro avg       0.22      0.26      0.20       100\n",
      "weighted avg       0.34      0.48      0.35       100\n",
      "\n"
     ]
    },
    {
     "name": "stderr",
     "output_type": "stream",
     "text": [
      "/Users/katie/.pyenv/versions/3.7.7/envs/lewagon/lib/python3.7/site-packages/sklearn/metrics/classification.py:1143: UndefinedMetricWarning: Precision and F-score are ill-defined and being set to 0.0 in labels with no predicted samples.\n",
      "  'precision', 'predicted', average, warn_for)\n"
     ]
    }
   ],
   "source": [
    "print(classification_report(y_test, y_pred))"
   ]
  },
  {
   "cell_type": "code",
   "execution_count": null,
   "metadata": {},
   "outputs": [],
   "source": []
  },
  {
   "cell_type": "markdown",
   "metadata": {},
   "source": [
    "## Play with Pickle"
   ]
  },
  {
   "cell_type": "code",
   "execution_count": 39,
   "metadata": {},
   "outputs": [],
   "source": [
    "import pickle"
   ]
  },
  {
   "cell_type": "code",
   "execution_count": 40,
   "metadata": {},
   "outputs": [],
   "source": [
    "df1.to_pickle('../essay_grader/pickle_data/df1.pkl')"
   ]
  },
  {
   "cell_type": "code",
   "execution_count": 41,
   "metadata": {},
   "outputs": [],
   "source": [
    "with open(\"../essay_grader/pickle_data/df1.pkl\", \"rb\") as file:\n",
    "        df2 = pickle.load(file)"
   ]
  },
  {
   "cell_type": "code",
   "execution_count": 46,
   "metadata": {},
   "outputs": [
    {
     "data": {
      "text/html": [
       "<div>\n",
       "<style scoped>\n",
       "    .dataframe tbody tr th:only-of-type {\n",
       "        vertical-align: middle;\n",
       "    }\n",
       "\n",
       "    .dataframe tbody tr th {\n",
       "        vertical-align: top;\n",
       "    }\n",
       "\n",
       "    .dataframe thead th {\n",
       "        text-align: right;\n",
       "    }\n",
       "</style>\n",
       "<table border=\"1\" class=\"dataframe\">\n",
       "  <thead>\n",
       "    <tr style=\"text-align: right;\">\n",
       "      <th></th>\n",
       "      <th>text</th>\n",
       "      <th>year</th>\n",
       "      <th>name</th>\n",
       "      <th>title</th>\n",
       "      <th>score</th>\n",
       "      <th>level</th>\n",
       "      <th>title_name</th>\n",
       "      <th>lemmatized_text</th>\n",
       "    </tr>\n",
       "  </thead>\n",
       "  <tbody>\n",
       "    <tr>\n",
       "      <th>0</th>\n",
       "      <td>The question is asking that, in the same disci...</td>\n",
       "      <td>2017</td>\n",
       "      <td>4, 5 - Est_Chen-fzn235-TOK_essay.docx</td>\n",
       "      <td>5</td>\n",
       "      <td>4</td>\n",
       "      <td>2</td>\n",
       "      <td>Given access to the same facts, how is it poss...</td>\n",
       "      <td>[[the, question, be, ask, that, ,, in, the, sa...</td>\n",
       "    </tr>\n",
       "  </tbody>\n",
       "</table>\n",
       "</div>"
      ],
      "text/plain": [
       "                                                text  year  \\\n",
       "0  The question is asking that, in the same disci...  2017   \n",
       "\n",
       "                                    name  title  score  level  \\\n",
       "0  4, 5 - Est_Chen-fzn235-TOK_essay.docx      5      4      2   \n",
       "\n",
       "                                          title_name  \\\n",
       "0  Given access to the same facts, how is it poss...   \n",
       "\n",
       "                                     lemmatized_text  \n",
       "0  [[the, question, be, ask, that, ,, in, the, sa...  "
      ]
     },
     "execution_count": 46,
     "metadata": {},
     "output_type": "execute_result"
    }
   ],
   "source": [
    "df2.head(1)"
   ]
  },
  {
   "cell_type": "code",
   "execution_count": 50,
   "metadata": {},
   "outputs": [],
   "source": [
    "data = df2.copy()"
   ]
  },
  {
   "cell_type": "code",
   "execution_count": 63,
   "metadata": {},
   "outputs": [],
   "source": [
    "data = df.copy()"
   ]
  },
  {
   "cell_type": "code",
   "execution_count": 64,
   "metadata": {},
   "outputs": [
    {
     "data": {
      "text/plain": [
       "(497, 7)"
      ]
     },
     "execution_count": 64,
     "metadata": {},
     "output_type": "execute_result"
    }
   ],
   "source": [
    "data.shape"
   ]
  },
  {
   "cell_type": "markdown",
   "metadata": {},
   "source": [
    "## vocabulary richness"
   ]
  },
  {
   "cell_type": "code",
   "execution_count": 52,
   "metadata": {},
   "outputs": [],
   "source": [
    "from nltk import word_tokenize"
   ]
  },
  {
   "cell_type": "code",
   "execution_count": 65,
   "metadata": {},
   "outputs": [
    {
     "data": {
      "text/html": [
       "<div>\n",
       "<style scoped>\n",
       "    .dataframe tbody tr th:only-of-type {\n",
       "        vertical-align: middle;\n",
       "    }\n",
       "\n",
       "    .dataframe tbody tr th {\n",
       "        vertical-align: top;\n",
       "    }\n",
       "\n",
       "    .dataframe thead th {\n",
       "        text-align: right;\n",
       "    }\n",
       "</style>\n",
       "<table border=\"1\" class=\"dataframe\">\n",
       "  <thead>\n",
       "    <tr style=\"text-align: right;\">\n",
       "      <th></th>\n",
       "      <th>text</th>\n",
       "      <th>year</th>\n",
       "      <th>name</th>\n",
       "      <th>title</th>\n",
       "      <th>score</th>\n",
       "      <th>level</th>\n",
       "      <th>title_name</th>\n",
       "      <th>vocab richness</th>\n",
       "    </tr>\n",
       "  </thead>\n",
       "  <tbody>\n",
       "    <tr>\n",
       "      <th>0</th>\n",
       "      <td>the question is asking that in the same discip...</td>\n",
       "      <td>2017</td>\n",
       "      <td>4, 5 - Est_Chen-fzn235-TOK_essay.docx</td>\n",
       "      <td>5</td>\n",
       "      <td>4</td>\n",
       "      <td>2</td>\n",
       "      <td>Given access to the same facts, how is it poss...</td>\n",
       "      <td>0.232696</td>\n",
       "    </tr>\n",
       "    <tr>\n",
       "      <th>1</th>\n",
       "      <td>our brains seek coherence structure and order ...</td>\n",
       "      <td>2017</td>\n",
       "      <td>7, 6 - Eva GuoTOK_final_final_draft.docx</td>\n",
       "      <td>6</td>\n",
       "      <td>7</td>\n",
       "      <td>4</td>\n",
       "      <td>Humans are pattern-seeking animals and we are ...</td>\n",
       "      <td>0.360864</td>\n",
       "    </tr>\n",
       "    <tr>\n",
       "      <th>2</th>\n",
       "      <td>in american heritage dictionary of the english...</td>\n",
       "      <td>2017</td>\n",
       "      <td>7, 5 - fzn260_Yessica_Ji_Yuanyi_G12-9_TOKEssay...</td>\n",
       "      <td>5</td>\n",
       "      <td>7</td>\n",
       "      <td>4</td>\n",
       "      <td>Given access to the same facts, how is it poss...</td>\n",
       "      <td>0.413621</td>\n",
       "    </tr>\n",
       "    <tr>\n",
       "      <th>3</th>\n",
       "      <td>the statement in the prompt argues that diffic...</td>\n",
       "      <td>2017</td>\n",
       "      <td>8, 1 - James Li TOK_Essay_4th_draft.docx</td>\n",
       "      <td>1</td>\n",
       "      <td>8</td>\n",
       "      <td>4</td>\n",
       "      <td>It is only knowledge produced with difficulty ...</td>\n",
       "      <td>0.406739</td>\n",
       "    </tr>\n",
       "    <tr>\n",
       "      <th>4</th>\n",
       "      <td>human are patternseeking animals because patte...</td>\n",
       "      <td>2017</td>\n",
       "      <td>7, 6 - Fzn323_Amy_Wang_Qiaohui_G12_TOK_Essay_D...</td>\n",
       "      <td>6</td>\n",
       "      <td>7</td>\n",
       "      <td>4</td>\n",
       "      <td>Humans are pattern-seeking animals and we are ...</td>\n",
       "      <td>0.267023</td>\n",
       "    </tr>\n",
       "  </tbody>\n",
       "</table>\n",
       "</div>"
      ],
      "text/plain": [
       "                                                text  year  \\\n",
       "0  the question is asking that in the same discip...  2017   \n",
       "1  our brains seek coherence structure and order ...  2017   \n",
       "2  in american heritage dictionary of the english...  2017   \n",
       "3  the statement in the prompt argues that diffic...  2017   \n",
       "4  human are patternseeking animals because patte...  2017   \n",
       "\n",
       "                                                name  title  score  level  \\\n",
       "0              4, 5 - Est_Chen-fzn235-TOK_essay.docx      5      4      2   \n",
       "1           7, 6 - Eva GuoTOK_final_final_draft.docx      6      7      4   \n",
       "2  7, 5 - fzn260_Yessica_Ji_Yuanyi_G12-9_TOKEssay...      5      7      4   \n",
       "3           8, 1 - James Li TOK_Essay_4th_draft.docx      1      8      4   \n",
       "4  7, 6 - Fzn323_Amy_Wang_Qiaohui_G12_TOK_Essay_D...      6      7      4   \n",
       "\n",
       "                                          title_name  vocab richness  \n",
       "0  Given access to the same facts, how is it poss...        0.232696  \n",
       "1  Humans are pattern-seeking animals and we are ...        0.360864  \n",
       "2  Given access to the same facts, how is it poss...        0.413621  \n",
       "3  It is only knowledge produced with difficulty ...        0.406739  \n",
       "4  Humans are pattern-seeking animals and we are ...        0.267023  "
      ]
     },
     "execution_count": 65,
     "metadata": {},
     "output_type": "execute_result"
    }
   ],
   "source": [
    "def vocab_richness(text):\n",
    "    tokens = word_tokenize(text)\n",
    "    total_length = len(tokens)\n",
    "    unique_words = set(tokens)\n",
    "    unique_word_length = len(unique_words)\n",
    "    return unique_word_length/total_length\n",
    "\n",
    "data['vocab richness'] = data.text.apply(vocab_richness)\n",
    "\n",
    "data.head()"
   ]
  },
  {
   "cell_type": "code",
   "execution_count": 66,
   "metadata": {},
   "outputs": [
    {
     "data": {
      "text/plain": [
       "level\n",
       "1    0.330267\n",
       "2    0.332318\n",
       "3    0.329388\n",
       "4    0.335013\n",
       "5    0.337160\n",
       "Name: vocab richness, dtype: float64"
      ]
     },
     "execution_count": 66,
     "metadata": {},
     "output_type": "execute_result"
    }
   ],
   "source": [
    "data.groupby(\"level\")['vocab richness'].mean()"
   ]
  },
  {
   "cell_type": "code",
   "execution_count": 67,
   "metadata": {},
   "outputs": [
    {
     "data": {
      "text/plain": [
       "level\n",
       "1    0.037853\n",
       "2    0.054656\n",
       "3    0.037913\n",
       "4    0.040205\n",
       "5    0.034549\n",
       "Name: vocab richness, dtype: float64"
      ]
     },
     "execution_count": 67,
     "metadata": {},
     "output_type": "execute_result"
    }
   ],
   "source": [
    "data.groupby(\"level\")['vocab richness'].std()"
   ]
  },
  {
   "cell_type": "markdown",
   "metadata": {},
   "source": [
    "- “meanSentenceLength” calculating the average sentence length \n",
    "- “meanWordSyllable” calculating the average word syllables"
   ]
  },
  {
   "cell_type": "code",
   "execution_count": 70,
   "metadata": {},
   "outputs": [],
   "source": [
    "def syllables(word):\n",
    "    syllable_count = 0\n",
    "    vowels = 'aeiouy'\n",
    "    if word[0] in vowels:\n",
    "        syllable_count += 1\n",
    "    for index in range(1, len(word)):\n",
    "        if word[index] in vowels and word[index - 1] not in vowels:\n",
    "            syllable_count += 1\n",
    "    if word.endswith('e'):\n",
    "        syllable_count -= 1\n",
    "    if word.endswith('le') and len(word) > 2 and word[-3] not in vowels:\n",
    "        syllable_count += 1\n",
    "    if syllable_count == 0:\n",
    "        syllable_count += 1\n",
    "    return syllable_count"
   ]
  },
  {
   "cell_type": "code",
   "execution_count": 71,
   "metadata": {},
   "outputs": [
    {
     "data": {
      "text/html": [
       "<div>\n",
       "<style scoped>\n",
       "    .dataframe tbody tr th:only-of-type {\n",
       "        vertical-align: middle;\n",
       "    }\n",
       "\n",
       "    .dataframe tbody tr th {\n",
       "        vertical-align: top;\n",
       "    }\n",
       "\n",
       "    .dataframe thead th {\n",
       "        text-align: right;\n",
       "    }\n",
       "</style>\n",
       "<table border=\"1\" class=\"dataframe\">\n",
       "  <thead>\n",
       "    <tr style=\"text-align: right;\">\n",
       "      <th></th>\n",
       "      <th>text</th>\n",
       "      <th>year</th>\n",
       "      <th>name</th>\n",
       "      <th>title</th>\n",
       "      <th>score</th>\n",
       "      <th>level</th>\n",
       "      <th>title_name</th>\n",
       "      <th>vocab richness</th>\n",
       "      <th>meanWordSyllable</th>\n",
       "    </tr>\n",
       "  </thead>\n",
       "  <tbody>\n",
       "    <tr>\n",
       "      <th>0</th>\n",
       "      <td>the question is asking that in the same discip...</td>\n",
       "      <td>2017</td>\n",
       "      <td>4, 5 - Est_Chen-fzn235-TOK_essay.docx</td>\n",
       "      <td>5</td>\n",
       "      <td>4</td>\n",
       "      <td>2</td>\n",
       "      <td>Given access to the same facts, how is it poss...</td>\n",
       "      <td>0.232696</td>\n",
       "      <td>1.592617</td>\n",
       "    </tr>\n",
       "    <tr>\n",
       "      <th>1</th>\n",
       "      <td>our brains seek coherence structure and order ...</td>\n",
       "      <td>2017</td>\n",
       "      <td>7, 6 - Eva GuoTOK_final_final_draft.docx</td>\n",
       "      <td>6</td>\n",
       "      <td>7</td>\n",
       "      <td>4</td>\n",
       "      <td>Humans are pattern-seeking animals and we are ...</td>\n",
       "      <td>0.360864</td>\n",
       "      <td>1.767471</td>\n",
       "    </tr>\n",
       "    <tr>\n",
       "      <th>2</th>\n",
       "      <td>in american heritage dictionary of the english...</td>\n",
       "      <td>2017</td>\n",
       "      <td>7, 5 - fzn260_Yessica_Ji_Yuanyi_G12-9_TOKEssay...</td>\n",
       "      <td>5</td>\n",
       "      <td>7</td>\n",
       "      <td>4</td>\n",
       "      <td>Given access to the same facts, how is it poss...</td>\n",
       "      <td>0.413621</td>\n",
       "      <td>1.902824</td>\n",
       "    </tr>\n",
       "    <tr>\n",
       "      <th>3</th>\n",
       "      <td>the statement in the prompt argues that diffic...</td>\n",
       "      <td>2017</td>\n",
       "      <td>8, 1 - James Li TOK_Essay_4th_draft.docx</td>\n",
       "      <td>1</td>\n",
       "      <td>8</td>\n",
       "      <td>4</td>\n",
       "      <td>It is only knowledge produced with difficulty ...</td>\n",
       "      <td>0.406739</td>\n",
       "      <td>1.820698</td>\n",
       "    </tr>\n",
       "    <tr>\n",
       "      <th>4</th>\n",
       "      <td>human are patternseeking animals because patte...</td>\n",
       "      <td>2017</td>\n",
       "      <td>7, 6 - Fzn323_Amy_Wang_Qiaohui_G12_TOK_Essay_D...</td>\n",
       "      <td>6</td>\n",
       "      <td>7</td>\n",
       "      <td>4</td>\n",
       "      <td>Humans are pattern-seeking animals and we are ...</td>\n",
       "      <td>0.267023</td>\n",
       "      <td>1.581442</td>\n",
       "    </tr>\n",
       "  </tbody>\n",
       "</table>\n",
       "</div>"
      ],
      "text/plain": [
       "                                                text  year  \\\n",
       "0  the question is asking that in the same discip...  2017   \n",
       "1  our brains seek coherence structure and order ...  2017   \n",
       "2  in american heritage dictionary of the english...  2017   \n",
       "3  the statement in the prompt argues that diffic...  2017   \n",
       "4  human are patternseeking animals because patte...  2017   \n",
       "\n",
       "                                                name  title  score  level  \\\n",
       "0              4, 5 - Est_Chen-fzn235-TOK_essay.docx      5      4      2   \n",
       "1           7, 6 - Eva GuoTOK_final_final_draft.docx      6      7      4   \n",
       "2  7, 5 - fzn260_Yessica_Ji_Yuanyi_G12-9_TOKEssay...      5      7      4   \n",
       "3           8, 1 - James Li TOK_Essay_4th_draft.docx      1      8      4   \n",
       "4  7, 6 - Fzn323_Amy_Wang_Qiaohui_G12_TOK_Essay_D...      6      7      4   \n",
       "\n",
       "                                          title_name  vocab richness  \\\n",
       "0  Given access to the same facts, how is it poss...        0.232696   \n",
       "1  Humans are pattern-seeking animals and we are ...        0.360864   \n",
       "2  Given access to the same facts, how is it poss...        0.413621   \n",
       "3  It is only knowledge produced with difficulty ...        0.406739   \n",
       "4  Humans are pattern-seeking animals and we are ...        0.267023   \n",
       "\n",
       "   meanWordSyllable  \n",
       "0          1.592617  \n",
       "1          1.767471  \n",
       "2          1.902824  \n",
       "3          1.820698  \n",
       "4          1.581442  "
      ]
     },
     "execution_count": 71,
     "metadata": {},
     "output_type": "execute_result"
    }
   ],
   "source": [
    "def mean_word_syllable(text):\n",
    "    tokens = word_tokenize(text)\n",
    "    syl = 0\n",
    "    for token in tokens:\n",
    "        syl += syllables(token)\n",
    "    total_length = len(tokens)\n",
    "    return syl/total_length\n",
    "\n",
    "data['meanWordSyllable'] = data.text.apply(mean_word_syllable)\n",
    "\n",
    "data.head()"
   ]
  },
  {
   "cell_type": "code",
   "execution_count": 72,
   "metadata": {},
   "outputs": [
    {
     "data": {
      "text/plain": [
       "level\n",
       "1    1.713309\n",
       "2    1.739935\n",
       "3    1.763273\n",
       "4    1.790097\n",
       "5    1.752197\n",
       "Name: meanWordSyllable, dtype: float64"
      ]
     },
     "execution_count": 72,
     "metadata": {},
     "output_type": "execute_result"
    }
   ],
   "source": [
    "data.groupby(\"level\")['meanWordSyllable'].mean()"
   ]
  },
  {
   "cell_type": "code",
   "execution_count": 73,
   "metadata": {},
   "outputs": [
    {
     "data": {
      "text/plain": [
       "level\n",
       "1    0.108116\n",
       "2    0.104785\n",
       "3    0.094688\n",
       "4    0.096833\n",
       "5    0.061024\n",
       "Name: meanWordSyllable, dtype: float64"
      ]
     },
     "execution_count": 73,
     "metadata": {},
     "output_type": "execute_result"
    }
   ],
   "source": [
    "data.groupby(\"level\")['meanWordSyllable'].std()"
   ]
  },
  {
   "cell_type": "code",
   "execution_count": 94,
   "metadata": {},
   "outputs": [],
   "source": [
    "import spacy \n",
    "\n",
    "# Splits the text into sentences, using  \n",
    "# Spacy's sentence segmentation which can  \n",
    "# be found at https://spacy.io/usage/spacy-101 \n",
    "nlp = spacy.load('en') \n",
    "\n",
    "def break_sentences(text, nlp): \n",
    "    doc = nlp(text) \n",
    "    return doc.sents \n",
    "  \n",
    "# Returns Number of Words in the text \n",
    "def word_count(text): \n",
    "    sentences = break_sentences(text,nlp) \n",
    "    words = 0\n",
    "    for sentence in sentences: \n",
    "        words += len([token for token in sentence]) \n",
    "    return words \n",
    "  \n",
    "# Returns the number of sentences in the text \n",
    "def sentence_count(text): \n",
    "    sentences = break_sentences(text,nlp) \n",
    "    return len(list(sentences))\n",
    "  \n",
    "# Returns average sentence length \n",
    "def avg_sentence_length(text): \n",
    "    words = word_count(text) \n",
    "    sentences = sentence_count(text) \n",
    "    average_sentence_length = float(words / sentences) \n",
    "    return average_sentence_length"
   ]
  },
  {
   "cell_type": "code",
   "execution_count": null,
   "metadata": {},
   "outputs": [],
   "source": [
    "data['word_count'] = data.text.apply(word_count)"
   ]
  },
  {
   "cell_type": "code",
   "execution_count": 89,
   "metadata": {},
   "outputs": [],
   "source": [
    "data['sentence_count'] = data.text.apply(sentence_count)"
   ]
  },
  {
   "cell_type": "code",
   "execution_count": 95,
   "metadata": {},
   "outputs": [],
   "source": [
    "data['avg_sentence_length'] = data.text.apply(avg_sentence_length)"
   ]
  },
  {
   "cell_type": "code",
   "execution_count": 101,
   "metadata": {},
   "outputs": [
    {
     "data": {
      "text/html": [
       "<div>\n",
       "<style scoped>\n",
       "    .dataframe tbody tr th:only-of-type {\n",
       "        vertical-align: middle;\n",
       "    }\n",
       "\n",
       "    .dataframe tbody tr th {\n",
       "        vertical-align: top;\n",
       "    }\n",
       "\n",
       "    .dataframe thead th {\n",
       "        text-align: right;\n",
       "    }\n",
       "</style>\n",
       "<table border=\"1\" class=\"dataframe\">\n",
       "  <thead>\n",
       "    <tr style=\"text-align: right;\">\n",
       "      <th></th>\n",
       "      <th>text</th>\n",
       "      <th>year</th>\n",
       "      <th>name</th>\n",
       "      <th>title</th>\n",
       "      <th>score</th>\n",
       "      <th>level</th>\n",
       "      <th>title_name</th>\n",
       "      <th>vocab richness</th>\n",
       "      <th>meanWordSyllable</th>\n",
       "      <th>word_count</th>\n",
       "      <th>sentence_count</th>\n",
       "      <th>avg_sentence_length</th>\n",
       "    </tr>\n",
       "  </thead>\n",
       "  <tbody>\n",
       "    <tr>\n",
       "      <th>0</th>\n",
       "      <td>the question is asking that in the same discip...</td>\n",
       "      <td>2017</td>\n",
       "      <td>4, 5 - Est_Chen-fzn235-TOK_essay.docx</td>\n",
       "      <td>5</td>\n",
       "      <td>4</td>\n",
       "      <td>2</td>\n",
       "      <td>Given access to the same facts, how is it poss...</td>\n",
       "      <td>0.232696</td>\n",
       "      <td>1.592617</td>\n",
       "      <td>1534</td>\n",
       "      <td>44</td>\n",
       "      <td>34.863636</td>\n",
       "    </tr>\n",
       "    <tr>\n",
       "      <th>1</th>\n",
       "      <td>our brains seek coherence structure and order ...</td>\n",
       "      <td>2017</td>\n",
       "      <td>7, 6 - Eva GuoTOK_final_final_draft.docx</td>\n",
       "      <td>6</td>\n",
       "      <td>7</td>\n",
       "      <td>4</td>\n",
       "      <td>Humans are pattern-seeking animals and we are ...</td>\n",
       "      <td>0.360864</td>\n",
       "      <td>1.767471</td>\n",
       "      <td>1582</td>\n",
       "      <td>14</td>\n",
       "      <td>113.000000</td>\n",
       "    </tr>\n",
       "    <tr>\n",
       "      <th>2</th>\n",
       "      <td>in american heritage dictionary of the english...</td>\n",
       "      <td>2017</td>\n",
       "      <td>7, 5 - fzn260_Yessica_Ji_Yuanyi_G12-9_TOKEssay...</td>\n",
       "      <td>5</td>\n",
       "      <td>7</td>\n",
       "      <td>4</td>\n",
       "      <td>Given access to the same facts, how is it poss...</td>\n",
       "      <td>0.413621</td>\n",
       "      <td>1.902824</td>\n",
       "      <td>1209</td>\n",
       "      <td>14</td>\n",
       "      <td>86.357143</td>\n",
       "    </tr>\n",
       "    <tr>\n",
       "      <th>3</th>\n",
       "      <td>the statement in the prompt argues that diffic...</td>\n",
       "      <td>2017</td>\n",
       "      <td>8, 1 - James Li TOK_Essay_4th_draft.docx</td>\n",
       "      <td>1</td>\n",
       "      <td>8</td>\n",
       "      <td>4</td>\n",
       "      <td>It is only knowledge produced with difficulty ...</td>\n",
       "      <td>0.406739</td>\n",
       "      <td>1.820698</td>\n",
       "      <td>1678</td>\n",
       "      <td>29</td>\n",
       "      <td>57.862069</td>\n",
       "    </tr>\n",
       "    <tr>\n",
       "      <th>4</th>\n",
       "      <td>human are patternseeking animals because patte...</td>\n",
       "      <td>2017</td>\n",
       "      <td>7, 6 - Fzn323_Amy_Wang_Qiaohui_G12_TOK_Essay_D...</td>\n",
       "      <td>6</td>\n",
       "      <td>7</td>\n",
       "      <td>4</td>\n",
       "      <td>Humans are pattern-seeking animals and we are ...</td>\n",
       "      <td>0.267023</td>\n",
       "      <td>1.581442</td>\n",
       "      <td>1500</td>\n",
       "      <td>18</td>\n",
       "      <td>83.333333</td>\n",
       "    </tr>\n",
       "  </tbody>\n",
       "</table>\n",
       "</div>"
      ],
      "text/plain": [
       "                                                text  year  \\\n",
       "0  the question is asking that in the same discip...  2017   \n",
       "1  our brains seek coherence structure and order ...  2017   \n",
       "2  in american heritage dictionary of the english...  2017   \n",
       "3  the statement in the prompt argues that diffic...  2017   \n",
       "4  human are patternseeking animals because patte...  2017   \n",
       "\n",
       "                                                name  title  score  level  \\\n",
       "0              4, 5 - Est_Chen-fzn235-TOK_essay.docx      5      4      2   \n",
       "1           7, 6 - Eva GuoTOK_final_final_draft.docx      6      7      4   \n",
       "2  7, 5 - fzn260_Yessica_Ji_Yuanyi_G12-9_TOKEssay...      5      7      4   \n",
       "3           8, 1 - James Li TOK_Essay_4th_draft.docx      1      8      4   \n",
       "4  7, 6 - Fzn323_Amy_Wang_Qiaohui_G12_TOK_Essay_D...      6      7      4   \n",
       "\n",
       "                                          title_name  vocab richness  \\\n",
       "0  Given access to the same facts, how is it poss...        0.232696   \n",
       "1  Humans are pattern-seeking animals and we are ...        0.360864   \n",
       "2  Given access to the same facts, how is it poss...        0.413621   \n",
       "3  It is only knowledge produced with difficulty ...        0.406739   \n",
       "4  Humans are pattern-seeking animals and we are ...        0.267023   \n",
       "\n",
       "   meanWordSyllable  word_count  sentence_count  avg_sentence_length  \n",
       "0          1.592617        1534              44            34.863636  \n",
       "1          1.767471        1582              14           113.000000  \n",
       "2          1.902824        1209              14            86.357143  \n",
       "3          1.820698        1678              29            57.862069  \n",
       "4          1.581442        1500              18            83.333333  "
      ]
     },
     "execution_count": 101,
     "metadata": {},
     "output_type": "execute_result"
    }
   ],
   "source": [
    "data.head()"
   ]
  },
  {
   "cell_type": "code",
   "execution_count": null,
   "metadata": {},
   "outputs": [],
   "source": []
  },
  {
   "cell_type": "markdown",
   "metadata": {},
   "source": [
    "## Play with Fasttext"
   ]
  },
  {
   "cell_type": "code",
   "execution_count": null,
   "metadata": {},
   "outputs": [],
   "source": [
    "# pip install fasttext"
   ]
  },
  {
   "cell_type": "code",
   "execution_count": 2,
   "metadata": {},
   "outputs": [],
   "source": [
    "import pickle"
   ]
  },
  {
   "cell_type": "code",
   "execution_count": 37,
   "metadata": {},
   "outputs": [],
   "source": [
    "with open(\"../essay_grader/pickle_data/df.pkl\", \"rb\") as file:\n",
    "        df = pickle.load(file)"
   ]
  },
  {
   "cell_type": "code",
   "execution_count": 38,
   "metadata": {},
   "outputs": [
    {
     "data": {
      "text/html": [
       "<div>\n",
       "<style scoped>\n",
       "    .dataframe tbody tr th:only-of-type {\n",
       "        vertical-align: middle;\n",
       "    }\n",
       "\n",
       "    .dataframe tbody tr th {\n",
       "        vertical-align: top;\n",
       "    }\n",
       "\n",
       "    .dataframe thead th {\n",
       "        text-align: right;\n",
       "    }\n",
       "</style>\n",
       "<table border=\"1\" class=\"dataframe\">\n",
       "  <thead>\n",
       "    <tr style=\"text-align: right;\">\n",
       "      <th></th>\n",
       "      <th>text</th>\n",
       "      <th>year</th>\n",
       "      <th>name</th>\n",
       "      <th>title</th>\n",
       "      <th>score</th>\n",
       "      <th>level</th>\n",
       "      <th>title_name</th>\n",
       "      <th>vocab_richness</th>\n",
       "      <th>meanWordSyllable</th>\n",
       "      <th>word_count</th>\n",
       "      <th>sentence_count</th>\n",
       "      <th>avg_sentence_length</th>\n",
       "      <th>count_stopwords</th>\n",
       "      <th>reading_ease</th>\n",
       "    </tr>\n",
       "  </thead>\n",
       "  <tbody>\n",
       "    <tr>\n",
       "      <th>0</th>\n",
       "      <td>the question is asking that in the same discip...</td>\n",
       "      <td>2017</td>\n",
       "      <td>4, 5 - Est_Chen-fzn235-TOK_essay.docx</td>\n",
       "      <td>5</td>\n",
       "      <td>4</td>\n",
       "      <td>2</td>\n",
       "      <td>Given access to the same facts, how is it poss...</td>\n",
       "      <td>0.20936</td>\n",
       "      <td>1.540025</td>\n",
       "      <td>1525</td>\n",
       "      <td>94</td>\n",
       "      <td>16.223404</td>\n",
       "      <td>788</td>\n",
       "      <td>60.08</td>\n",
       "    </tr>\n",
       "  </tbody>\n",
       "</table>\n",
       "</div>"
      ],
      "text/plain": [
       "                                                text  year  \\\n",
       "0  the question is asking that in the same discip...  2017   \n",
       "\n",
       "                                    name  title  score  level  \\\n",
       "0  4, 5 - Est_Chen-fzn235-TOK_essay.docx      5      4      2   \n",
       "\n",
       "                                          title_name  vocab_richness  \\\n",
       "0  Given access to the same facts, how is it poss...         0.20936   \n",
       "\n",
       "   meanWordSyllable  word_count  sentence_count  avg_sentence_length  \\\n",
       "0          1.540025        1525              94            16.223404   \n",
       "\n",
       "   count_stopwords  reading_ease  \n",
       "0              788         60.08  "
      ]
     },
     "execution_count": 38,
     "metadata": {},
     "output_type": "execute_result"
    }
   ],
   "source": [
    "df.head(1)"
   ]
  },
  {
   "cell_type": "code",
   "execution_count": 39,
   "metadata": {},
   "outputs": [],
   "source": [
    "df.text = df.text.str.replace(\"\\n\",\"\")"
   ]
  },
  {
   "cell_type": "code",
   "execution_count": 66,
   "metadata": {},
   "outputs": [
    {
     "name": "stderr",
     "output_type": "stream",
     "text": [
      "/Users/katie/.pyenv/versions/3.7.7/envs/lewagon/lib/python3.7/site-packages/ipykernel_launcher.py:8: SettingWithCopyWarning: \n",
      "A value is trying to be set on a copy of a slice from a DataFrame.\n",
      "Try using .loc[row_indexer,col_indexer] = value instead\n",
      "\n",
      "See the caveats in the documentation: http://pandas.pydata.org/pandas-docs/stable/indexing.html#indexing-view-versus-copy\n",
      "  \n"
     ]
    }
   ],
   "source": [
    "import pandas as pd\n",
    "from sklearn.metrics import accuracy_score, confusion_matrix, classification_report\n",
    "import fasttext\n",
    "\n",
    "\n",
    "# changed to FastText required format\n",
    "train_df = df.iloc[:-50]\n",
    "train_df['label_level'] = '__label__' + train_df['level'].astype(str)\n",
    "train_df[['text','label_level']].to_csv('train.csv', index=None, header=None, sep='\\t')\n",
    "\n",
    "\n",
    "model = fasttext.train_supervised('train.csv', lr=1, wordNgrams=3, \n",
    "                                  verbose=2, minCount=1, epoch=25, loss=\"hs\",dim=100)"
   ]
  },
  {
   "cell_type": "code",
   "execution_count": 67,
   "metadata": {},
   "outputs": [
    {
     "name": "stdout",
     "output_type": "stream",
     "text": [
      "0.52\n"
     ]
    }
   ],
   "source": [
    "val_pred = [model.predict(x)[0][0].split('__')[-1] for x in df.iloc[-50:]['text']]\n",
    "print(accuracy_score(df['level'].values[-50:].astype(str), val_pred))"
   ]
  },
  {
   "cell_type": "code",
   "execution_count": null,
   "metadata": {},
   "outputs": [],
   "source": [
    "#wordNgrams= 2,  accuracy = 0.5\n",
    "#wordNgrams= 3,  accuracy = 0.52"
   ]
  },
  {
   "cell_type": "code",
   "execution_count": 68,
   "metadata": {},
   "outputs": [
    {
     "name": "stdout",
     "output_type": "stream",
     "text": [
      "              precision    recall  f1-score   support\n",
      "\n",
      "           1       0.00      0.00      0.00         6\n",
      "           2       0.52      1.00      0.68        26\n",
      "           3       0.00      0.00      0.00        14\n",
      "           4       0.00      0.00      0.00         4\n",
      "\n",
      "   micro avg       0.52      0.52      0.52        50\n",
      "   macro avg       0.13      0.25      0.17        50\n",
      "weighted avg       0.27      0.52      0.36        50\n",
      "\n"
     ]
    }
   ],
   "source": [
    "print(classification_report(df['level'].values[-50:].astype(str), val_pred))"
   ]
  },
  {
   "cell_type": "code",
   "execution_count": 50,
   "metadata": {},
   "outputs": [],
   "source": [
    "import os\n",
    "import sys\n",
    "path = os.path.abspath('..')\n",
    "sys.path.append(path)\n",
    "from essay_grader.lemmatize import lemmatize"
   ]
  },
  {
   "cell_type": "code",
   "execution_count": 70,
   "metadata": {},
   "outputs": [],
   "source": [
    "import os\n",
    "import sys\n",
    "path = os.path.abspath('..')\n",
    "sys.path.append(path)\n",
    "\n",
    "from essay_grader.text_feature import gen_text_feature\n"
   ]
  },
  {
   "cell_type": "code",
   "execution_count": 71,
   "metadata": {},
   "outputs": [
    {
     "data": {
      "text/html": [
       "<div>\n",
       "<style scoped>\n",
       "    .dataframe tbody tr th:only-of-type {\n",
       "        vertical-align: middle;\n",
       "    }\n",
       "\n",
       "    .dataframe tbody tr th {\n",
       "        vertical-align: top;\n",
       "    }\n",
       "\n",
       "    .dataframe thead th {\n",
       "        text-align: right;\n",
       "    }\n",
       "</style>\n",
       "<table border=\"1\" class=\"dataframe\">\n",
       "  <thead>\n",
       "    <tr style=\"text-align: right;\">\n",
       "      <th></th>\n",
       "      <th>text</th>\n",
       "      <th>year</th>\n",
       "      <th>name</th>\n",
       "      <th>title</th>\n",
       "      <th>score</th>\n",
       "      <th>level</th>\n",
       "      <th>title_name</th>\n",
       "      <th>vocab_richness</th>\n",
       "      <th>meanWordSyllable</th>\n",
       "      <th>word_count</th>\n",
       "      <th>sentence_count</th>\n",
       "      <th>avg_sentence_length</th>\n",
       "      <th>count_stopwords</th>\n",
       "      <th>reading_ease</th>\n",
       "      <th>lemmatized_text</th>\n",
       "    </tr>\n",
       "  </thead>\n",
       "  <tbody>\n",
       "    <tr>\n",
       "      <th>0</th>\n",
       "      <td>the question is asking that in the same discip...</td>\n",
       "      <td>2017</td>\n",
       "      <td>4, 5 - Est_Chen-fzn235-TOK_essay.docx</td>\n",
       "      <td>5</td>\n",
       "      <td>4</td>\n",
       "      <td>2</td>\n",
       "      <td>Given access to the same facts, how is it poss...</td>\n",
       "      <td>0.209360</td>\n",
       "      <td>1.540025</td>\n",
       "      <td>1525</td>\n",
       "      <td>94</td>\n",
       "      <td>16.223404</td>\n",
       "      <td>788</td>\n",
       "      <td>60.08</td>\n",
       "      <td>[[the, question, be, ask, that, in, the, same,...</td>\n",
       "    </tr>\n",
       "    <tr>\n",
       "      <th>1</th>\n",
       "      <td>our brains seek coherence structure and order ...</td>\n",
       "      <td>2017</td>\n",
       "      <td>7, 6 - Eva GuoTOK_final_final_draft.docx</td>\n",
       "      <td>6</td>\n",
       "      <td>7</td>\n",
       "      <td>4</td>\n",
       "      <td>Humans are pattern-seeking animals and we are ...</td>\n",
       "      <td>0.344933</td>\n",
       "      <td>1.731380</td>\n",
       "      <td>1575</td>\n",
       "      <td>58</td>\n",
       "      <td>27.155172</td>\n",
       "      <td>724</td>\n",
       "      <td>32.80</td>\n",
       "      <td>[[we, brain, seek, coherence, structure, and, ...</td>\n",
       "    </tr>\n",
       "    <tr>\n",
       "      <th>2</th>\n",
       "      <td>in american heritage dictionary of the english...</td>\n",
       "      <td>2017</td>\n",
       "      <td>7, 5 - fzn260_Yessica_Ji_Yuanyi_G12-9_TOKEssay...</td>\n",
       "      <td>5</td>\n",
       "      <td>7</td>\n",
       "      <td>4</td>\n",
       "      <td>Given access to the same facts, how is it poss...</td>\n",
       "      <td>0.398082</td>\n",
       "      <td>1.861711</td>\n",
       "      <td>1208</td>\n",
       "      <td>41</td>\n",
       "      <td>29.463415</td>\n",
       "      <td>528</td>\n",
       "      <td>19.43</td>\n",
       "      <td>[[in, american, heritage, dictionary, of, the,...</td>\n",
       "    </tr>\n",
       "  </tbody>\n",
       "</table>\n",
       "</div>"
      ],
      "text/plain": [
       "                                                text  year  \\\n",
       "0  the question is asking that in the same discip...  2017   \n",
       "1  our brains seek coherence structure and order ...  2017   \n",
       "2  in american heritage dictionary of the english...  2017   \n",
       "\n",
       "                                                name  title  score  level  \\\n",
       "0              4, 5 - Est_Chen-fzn235-TOK_essay.docx      5      4      2   \n",
       "1           7, 6 - Eva GuoTOK_final_final_draft.docx      6      7      4   \n",
       "2  7, 5 - fzn260_Yessica_Ji_Yuanyi_G12-9_TOKEssay...      5      7      4   \n",
       "\n",
       "                                          title_name  vocab_richness  \\\n",
       "0  Given access to the same facts, how is it poss...        0.209360   \n",
       "1  Humans are pattern-seeking animals and we are ...        0.344933   \n",
       "2  Given access to the same facts, how is it poss...        0.398082   \n",
       "\n",
       "   meanWordSyllable  word_count  sentence_count  avg_sentence_length  \\\n",
       "0          1.540025        1525              94            16.223404   \n",
       "1          1.731380        1575              58            27.155172   \n",
       "2          1.861711        1208              41            29.463415   \n",
       "\n",
       "   count_stopwords  reading_ease  \\\n",
       "0              788         60.08   \n",
       "1              724         32.80   \n",
       "2              528         19.43   \n",
       "\n",
       "                                     lemmatized_text  \n",
       "0  [[the, question, be, ask, that, in, the, same,...  \n",
       "1  [[we, brain, seek, coherence, structure, and, ...  \n",
       "2  [[in, american, heritage, dictionary, of, the,...  "
      ]
     },
     "execution_count": 71,
     "metadata": {},
     "output_type": "execute_result"
    }
   ],
   "source": [
    "df.head(3)"
   ]
  },
  {
   "cell_type": "code",
   "execution_count": null,
   "metadata": {},
   "outputs": [],
   "source": [
    "# vectorize the data\n"
   ]
  }
 ],
 "metadata": {
  "kernelspec": {
   "display_name": "Python 3",
   "language": "python",
   "name": "python3"
  },
  "language_info": {
   "codemirror_mode": {
    "name": "ipython",
    "version": 3
   },
   "file_extension": ".py",
   "mimetype": "text/x-python",
   "name": "python",
   "nbconvert_exporter": "python",
   "pygments_lexer": "ipython3",
   "version": "3.7.7"
  }
 },
 "nbformat": 4,
 "nbformat_minor": 4
}
